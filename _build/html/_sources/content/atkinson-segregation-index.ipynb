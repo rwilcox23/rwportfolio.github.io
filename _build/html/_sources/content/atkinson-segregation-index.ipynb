{
 "cells": [
  {
   "attachments": {},
   "cell_type": "markdown",
   "metadata": {},
   "source": [
    "# Analyzing Segregation in NYC Schools\n",
    "\n",
    "In this notebook, we will be using data from the NYC Schools dataset to analyze segregation in NYC schools. Specifically, we will be calculating the Atkinson segregation index for each school district, which measures the level of inequality in the distribution of different racial and ethnic groups across schools."
   ]
  },
  {
   "attachments": {},
   "cell_type": "markdown",
   "metadata": {},
   "source": [
    "## <u>Part 1</u>: <u>Loading and Preprocessing the Data</u>\n",
    "\n",
    "To begin, we will load the nycschools package and use it to load the school demographics data:"
   ]
  },
  {
   "cell_type": "code",
   "execution_count": null,
   "metadata": {},
   "outputs": [],
   "source": [
    "%pip install nycschools\n",
    "from nycschools import schools\n",
    "demo = schools.load_school_demographics()"
   ]
  },
  {
   "attachments": {},
   "cell_type": "markdown",
   "metadata": {},
   "source": [
    "We will then select only the columns that we are interested in and filter the data to only include data from the 2018 academic year:"
   ]
  },
  {
   "cell_type": "code",
   "execution_count": 6,
   "metadata": {},
   "outputs": [],
   "source": [
    "demo = demo[['dbn', 'beds', 'district', 'geo_district', 'zip', 'boro', 'school_name',\n",
    "       'short_name', 'ay', 'year', 'school_type', 'total_enrollment', 'female_n', 'female_pct', 'male_n',\n",
    "       'male_pct', 'asian_n', 'asian_pct', 'black_n', 'black_pct',\n",
    "       'hispanic_n', 'hispanic_pct', 'multi_racial_n', 'multi_racial_pct',\n",
    "       'native_american_n', 'native_american_pct', 'white_n', 'white_pct',\n",
    "       'missing_race_ethnicity_data_n', 'missing_race_ethnicity_data_pct', 'poverty_n', 'poverty_pct',\n",
    "       'eni_pct']]\n",
    "\n",
    "demo = demo[demo['ay'] == 2018]"
   ]
  },
  {
   "attachments": {},
   "cell_type": "markdown",
   "metadata": {},
   "source": [
    "Next, we will use `pandas` to group the data by district and sum the number of students per race:"
   ]
  },
  {
   "cell_type": "code",
   "execution_count": 7,
   "metadata": {},
   "outputs": [],
   "source": [
    "import pandas as pd\n",
    "\n",
    "# Group the data by district and sum the number of students per race\n",
    "district_data = demo.groupby('district').agg({\n",
    "    'white_n': 'sum',\n",
    "    'black_n': 'sum',\n",
    "    'asian_n': 'sum',\n",
    "    'hispanic_n': 'sum',\n",
    "    'multi_racial_n': 'sum',\n",
    "    'native_american_n': 'sum',\n",
    "    'total_enrollment': 'sum'\n",
    "})"
   ]
  },
  {
   "attachments": {},
   "cell_type": "markdown",
   "metadata": {},
   "source": [
    "## <u>Part 2</u>: <u>Calculating the Atkinson Segregation Index</u>\n",
    "\n",
    "Now that we have preprocessed the data, we can move on to calculating the Atkinson segregation index for each district. The Atkinson index is defined as:"
   ]
  },
  {
   "attachments": {},
   "cell_type": "markdown",
   "metadata": {},
   "source": [
    "`1 - (sum(p_i^(1 - beta)) / n) `"
   ]
  },
  {
   "attachments": {},
   "cell_type": "markdown",
   "metadata": {},
   "source": [
    "where: \n",
    "\n",
    "- `p_i` is the proportion of students in group i (e.g. white, black, Asian, Hispanic, etc.) \n",
    "\n",
    "- `beta` is a parameter that determines the degree of inequality we want to measure\n",
    "\n",
    "- `n` is the total number of groups.\n",
    "\n",
    "We will define a function atkinson_index to calculate the index for a given district, and then apply this function to each district using pandas:"
   ]
  },
  {
   "cell_type": "code",
   "execution_count": 8,
   "metadata": {},
   "outputs": [],
   "source": [
    "# Calculate the proportions for each race in each district\n",
    "for race in ['white_n', 'black_n', 'asian_n', 'hispanic_n', 'multi_racial_n', 'native_american_n']:\n",
    "    district_data[race + '_prop'] = district_data[race] / district_data['total_enrollment']\n",
    "\n",
    "\n",
    "def atkinson_index(district, beta=0.5):\n",
    "    proportions = [\n",
    "        district['white_n_prop'],\n",
    "        district['black_n_prop'],\n",
    "        district['asian_n_prop'],\n",
    "        district['hispanic_n_prop'],\n",
    "        district['multi_racial_n_prop'],\n",
    "        district['native_american_n_prop']\n",
    "    ]\n",
    "    return 1 - sum(p ** (1 - beta) for p in proportions if p > 0) / len(proportions)\n",
    "\n",
    "\n",
    "# Calculate the Atkinson segregation index for each district\n",
    "district_data['atkinson_index'] = district_data.apply(atkinson_index, axis=1)"
   ]
  },
  {
   "attachments": {},
   "cell_type": "markdown",
   "metadata": {},
   "source": [
    "Finally, we reset the index of our district_data dataframe and print out the results:"
   ]
  },
  {
   "cell_type": "code",
   "execution_count": 9,
   "metadata": {},
   "outputs": [
    {
     "name": "stdout",
     "output_type": "stream",
     "text": [
      "    district  atkinson_index\n",
      "0          1        0.638541\n",
      "1          2        0.635476\n",
      "2          3        0.642181\n",
      "3          4        0.667669\n",
      "4          5        0.664208\n",
      "5          6        0.720841\n",
      "6          7        0.711855\n",
      "7          8        0.680269\n",
      "8          9        0.713777\n",
      "9         10        0.681613\n",
      "10        11        0.660476\n",
      "11        12        0.702780\n",
      "12        13        0.643602\n",
      "13        14        0.666580\n",
      "14        15        0.640118\n",
      "15        16        0.696803\n",
      "16        17        0.696642\n",
      "17        18        0.721763\n",
      "18        19        0.677406\n",
      "19        20        0.672386\n",
      "20        21        0.647573\n",
      "21        22        0.641533\n",
      "22        23        0.707116\n",
      "23        24        0.685135\n",
      "24        25        0.664023\n",
      "25        26        0.652383\n",
      "26        27        0.635525\n",
      "27        28        0.626423\n",
      "28        29        0.665985\n",
      "29        30        0.657361\n",
      "30        31        0.652436\n",
      "31        32        0.717511\n",
      "32        75        0.652208\n",
      "33        79        0.660774\n",
      "34        84        0.678195\n"
     ]
    }
   ],
   "source": [
    "district_data = district_data.reset_index()\n",
    "print(district_data[['district', 'atkinson_index']])"
   ]
  },
  {
   "attachments": {},
   "cell_type": "markdown",
   "metadata": {},
   "source": [
    "## <u>Part 3</u>: <u>Interpreting the Atkinson Segregation Index Results</u>\n",
    "\n",
    "We have calculated the Atkinson segregation index for each school district in NYC, and our results show that the index varies widely across districts, ranging from 0.626 to 0.721.\n",
    "\n",
    "An Atkinson segregation index value of 0 indicates perfect integration, where each racial or ethnic group is represented in each school proportionally to their share of the overall student population. An Atkinson segregation index value of 1 indicates complete segregation, where each racial or ethnic group attends separate schools and there is no mixing between groups.\n",
    "\n",
    "Using these benchmarks, we can interpret our results as follows:\n",
    "\n",
    "- Districts with an Atkinson segregation index of less than 0.1 can be considered to have low levels of segregation.\n",
    "\n",
    "- Districts with an Atkinson segregation index between 0.1 and 0.6 can be considered to have moderate levels of segregation.\n",
    "\n",
    "- Districts with an Atkinson segregation index of greater than 0.6 can be considered to have high levels of segregation.\n",
    "\n",
    "Based on these guidelines, our results suggest that many NYC school districts have high levels of segregation. In particular, 12 out of 35 districts have Atkinson segregation indices of 0.7 or higher, indicating significant levels of segregation.\n",
    "\n",
    "These findings have important implications for educational outcomes and opportunities in NYC, as segregation has been shown to be associated with a range of negative outcomes, such as lower academic achievement, reduced access to resources and opportunities, and increased social isolation. By using these results to inform policy decisions and interventions aimed at promoting diversity, equity, and inclusion in education, we can work towards creating a more equitable and inclusive educational system for all students."
   ]
  }
 ],
 "metadata": {
  "kernelspec": {
   "display_name": ".venv",
   "language": "python",
   "name": "python3"
  },
  "language_info": {
   "codemirror_mode": {
    "name": "ipython",
    "version": 3
   },
   "file_extension": ".py",
   "mimetype": "text/x-python",
   "name": "python",
   "nbconvert_exporter": "python",
   "pygments_lexer": "ipython3",
   "version": "3.9.6"
  },
  "orig_nbformat": 4
 },
 "nbformat": 4,
 "nbformat_minor": 2
}
