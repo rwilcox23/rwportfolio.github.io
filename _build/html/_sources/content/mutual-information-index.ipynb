{
 "cells": [
  {
   "attachments": {},
   "cell_type": "markdown",
   "metadata": {},
   "source": [
    "# Calculating Mutual Information Index by Race\n"
   ]
  },
  {
   "cell_type": "code",
   "execution_count": null,
   "metadata": {},
   "outputs": [],
   "source": [
    "%pip install nycschools\n",
    "import pandas as pd"
   ]
  },
  {
   "cell_type": "code",
   "execution_count": 2,
   "metadata": {},
   "outputs": [],
   "source": [
    "from nycschools import schools"
   ]
  },
  {
   "cell_type": "code",
   "execution_count": 3,
   "metadata": {},
   "outputs": [],
   "source": [
    "district_data = pd.read_csv('/Users/rwilcox/GitHub/newprojectnotebook/district_data.csv')\n"
   ]
  },
  {
   "attachments": {},
   "cell_type": "markdown",
   "metadata": {},
   "source": [
    "In this tutorial, we'll walk through a Python code snippet that calculates the Mutual Information Index (MII) for different racial groups in a given dataset of school district enrollment data. The MII is a measure used to determine the degree of association between two categorical variables, such as race and district enrollment. It can help us understand the distribution of different races across the districts.\n",
    "\n",
    "<b>Dataset Requirements</b>: The dataset (district_data) should be a pandas DataFrame with the following columns:\n",
    "\n",
    "- 'total_enrollment': total enrollment in the district\n",
    "- 'white_n', 'black_n', 'asian_n', 'hispanic_n', 'multi_racial_n', 'native_american_n': number of students belonging to each racial group in the district\n",
    "\n",
    "### Step 1: Calculate the total enrollment and total race proportions\n",
    "\n",
    "First, we calculate the total enrollment across all districts and the proportion of each racial group in the dataset."
   ]
  },
  {
   "cell_type": "code",
   "execution_count": null,
   "metadata": {},
   "outputs": [],
   "source": [
    "total_enrollment = district_data['total_enrollment'].sum()\n",
    "total_race_props = {}\n",
    "\n",
    "for race in ['white_n', 'black_n', 'asian_n', 'hispanic_n', 'multi_racial_n', 'native_american_n']:\n",
    "    total_race_props[race] = district_data[race].sum() / total_enrollment"
   ]
  },
  {
   "attachments": {},
   "cell_type": "markdown",
   "metadata": {},
   "source": [
    "### Step 2: Define the Mutual Information Index function\n",
    "\n",
    "Next, we create a function called mutual_information_index that takes a district row, a race, and the total race proportion as input arguments and calculates the MII for that specific race in the district."
   ]
  },
  {
   "cell_type": "code",
   "execution_count": null,
   "metadata": {},
   "outputs": [],
   "source": [
    "import numpy as np\n",
    "\n",
    "def mutual_information_index(district, race, total_race_prop):\n",
    "    prop_i = district[race + '_prop']\n",
    "    prop = total_race_prop\n",
    "    if prop_i == 0 or prop == 0:\n",
    "        return 0\n",
    "    return (prop_i / prop) * np.log(prop_i / prop)"
   ]
  },
  {
   "attachments": {},
   "cell_type": "markdown",
   "metadata": {},
   "source": [
    "### Step 3: Calculate the MII for each race\n",
    "\n",
    "Now, we iterate over the racial groups and apply the mutual_information_index function to each district using the apply method from pandas. We store the results in a dictionary called mii_by_race."
   ]
  },
  {
   "cell_type": "code",
   "execution_count": null,
   "metadata": {},
   "outputs": [],
   "source": [
    "mii_by_race = {}\n",
    "\n",
    "for race in ['white_n', 'black_n', 'asian_n', 'hispanic_n', 'multi_racial_n', 'native_american_n']:\n",
    "    mii_by_race[race] = district_data.apply(mutual_information_index, race=race, total_race_prop=total_race_props[race], axis=1).sum()\n"
   ]
  },
  {
   "attachments": {},
   "cell_type": "markdown",
   "metadata": {},
   "source": [
    "### Step 4: Display the results\n",
    "\n",
    "Finally, we display the MII by race using a simple loop that prints the results."
   ]
  },
  {
   "cell_type": "code",
   "execution_count": 8,
   "metadata": {},
   "outputs": [
    {
     "name": "stdout",
     "output_type": "stream",
     "text": [
      "Mutual Information Index by Race:\n",
      "White: 6.307\n",
      "Black: 15.712\n",
      "Asian: 8.258\n",
      "Hispanic: 5.032\n",
      "Multi Racial: 7.730\n",
      "Native American: 8.426\n"
     ]
    }
   ],
   "source": [
    "print(\"Mutual Information Index by Race:\")\n",
    "for race, mii in mii_by_race.items():\n",
    "    race_formatted = race[:-2].replace('_', ' ').title()\n",
    "    print(f\"{race_formatted}: {mii:.3f}\")\n",
    "\n"
   ]
  },
  {
   "attachments": {},
   "cell_type": "markdown",
   "metadata": {},
   "source": [
    "### Step 5: Interpreting the results\n",
    "\n",
    "The Mutual Information Index (MII) provides a way to quantify the association between race and district enrollment. It ranges from 0 to infinity, with larger values indicating a stronger association.\n",
    "\n",
    "- MII = 0: No association between race and district enrollment (i.e., the distribution of a racial group across districts is random).\n",
    "\n",
    "- MII > 0: Some association between race and district enrollment (i.e., the distribution of a racial group across districts is not random).\n",
    "\n",
    "To interpret the results, consider the following guidelines:\n",
    "\n",
    "1. <b>Compare MII values across races</b>: By comparing the MII values of different racial groups, you can determine which groups show stronger associations with district enrollment. Higher MII values suggest that the distribution of a racial group is more concentrated in specific districts, indicating possible patterns or segregation.\n",
    "\n",
    "2. <b>Evaluate MII values in the context of your data</b>: The absolute value of MII may not be meaningful by itself. Instead, consider the relative values of MII for different racial groups and interpret them in the context of your data, such as the geographical distribution of districts, historical factors, or socioeconomic factors that may influence the enrollment patterns.\n",
    "\n",
    "3. <b>Use MII as a starting point for further analysis</b>: MII can help identify patterns and potential areas of concern, but it is not a definitive measure. Use the MII results as a starting point for further analysis, such as investigating the underlying causes of the observed associations or exploring the impact of policy changes on the distribution of racial groups across districts."
   ]
  }
 ],
 "metadata": {
  "kernelspec": {
   "display_name": ".venv",
   "language": "python",
   "name": "python3"
  },
  "language_info": {
   "codemirror_mode": {
    "name": "ipython",
    "version": 3
   },
   "file_extension": ".py",
   "mimetype": "text/x-python",
   "name": "python",
   "nbconvert_exporter": "python",
   "pygments_lexer": "ipython3",
   "version": "3.9.6"
  },
  "orig_nbformat": 4
 },
 "nbformat": 4,
 "nbformat_minor": 2
}
