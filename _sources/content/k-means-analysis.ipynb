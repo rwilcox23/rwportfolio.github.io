{
 "cells": [
  {
   "attachments": {},
   "cell_type": "markdown",
   "metadata": {},
   "source": [
    "# Exploring School Performance Data with Python and Data Science using *k-means clustering*"
   ]
  },
  {
   "cell_type": "code",
   "execution_count": null,
   "metadata": {},
   "outputs": [],
   "source": [
    "# install the nycschools package and its requirements\n",
    "%pip install nycschools"
   ]
  },
  {
   "cell_type": "code",
   "execution_count": 2,
   "metadata": {},
   "outputs": [],
   "source": [
    "# discover the data in your Google Drive, or download it to the local Colab\n",
    "# if no suitable data is found\n",
    "from nycschools import dataloader\n",
    "dataloader.download_data();"
   ]
  },
  {
   "attachments": {},
   "cell_type": "markdown",
   "metadata": {},
   "source": [
    "## <u>Introduction</u>\n",
    "\n",
    "In this tutorial, we will explore how to use Python and data science techniques to manipulate and analyze data related to school performance. Specifically, we will work with data from the New York City public school system, including school demographics and student performance on English Language Arts (ELA) and Math exams. We will use clustering analysis to identify patterns in the data and visualize the results using scatter plots."
   ]
  },
  {
   "attachments": {},
   "cell_type": "markdown",
   "metadata": {},
   "source": [
    "### <u>Data Preparation</u>\n",
    "\n",
    "To get started, we will load the necessary Python packages and install any missing dependencies using the %pip magic command:"
   ]
  },
  {
   "cell_type": "code",
   "execution_count": 3,
   "metadata": {},
   "outputs": [
    {
     "name": "stdout",
     "output_type": "stream",
     "text": [
      "Requirement already satisfied: nbformat in ./.venv/lib/python3.9/site-packages (5.8.0)\n",
      "Requirement already satisfied: fastjsonschema in ./.venv/lib/python3.9/site-packages (from nbformat) (2.16.3)\n",
      "Requirement already satisfied: jsonschema>=2.6 in ./.venv/lib/python3.9/site-packages (from nbformat) (4.17.3)\n",
      "Requirement already satisfied: jupyter-core in ./.venv/lib/python3.9/site-packages (from nbformat) (5.3.0)\n",
      "Requirement already satisfied: traitlets>=5.1 in ./.venv/lib/python3.9/site-packages (from nbformat) (5.9.0)\n",
      "Requirement already satisfied: attrs>=17.4.0 in ./.venv/lib/python3.9/site-packages (from jsonschema>=2.6->nbformat) (23.1.0)\n",
      "Requirement already satisfied: pyrsistent!=0.17.0,!=0.17.1,!=0.17.2,>=0.14.0 in ./.venv/lib/python3.9/site-packages (from jsonschema>=2.6->nbformat) (0.19.3)\n",
      "Requirement already satisfied: platformdirs>=2.5 in ./.venv/lib/python3.9/site-packages (from jupyter-core->nbformat) (3.5.0)\n",
      "Note: you may need to restart the kernel to use updated packages.\n",
      "Requirement already satisfied: plotly in ./.venv/lib/python3.9/site-packages (5.14.1)\n",
      "Requirement already satisfied: tenacity>=6.2.0 in ./.venv/lib/python3.9/site-packages (from plotly) (8.2.2)\n",
      "Requirement already satisfied: packaging in ./.venv/lib/python3.9/site-packages (from plotly) (23.1)\n",
      "Note: you may need to restart the kernel to use updated packages.\n"
     ]
    }
   ],
   "source": [
    "%pip install nbformat\n",
    "%pip install plotly"
   ]
  },
  {
   "attachments": {},
   "cell_type": "markdown",
   "metadata": {},
   "source": [
    "We will then import the necessary libraries for data manipulation, analysis, and visualization:"
   ]
  },
  {
   "cell_type": "code",
   "execution_count": 4,
   "metadata": {},
   "outputs": [],
   "source": [
    "import pandas as pd\n",
    "from nycschools import schools, exams"
   ]
  },
  {
   "attachments": {},
   "cell_type": "markdown",
   "metadata": {},
   "source": [
    "Next, we will load the school demographics and exam data using the schools and exams functions from the nycschools package:"
   ]
  },
  {
   "cell_type": "code",
   "execution_count": 5,
   "metadata": {},
   "outputs": [],
   "source": [
    "demo = schools.load_school_demographics()\n",
    "ela = exams.load_ela()\n",
    "math = exams.load_math()\n"
   ]
  },
  {
   "attachments": {},
   "cell_type": "markdown",
   "metadata": {},
   "source": [
    "We will then merge the ELA and Math exam data based on common columns, and rename columns for clarity:"
   ]
  },
  {
   "cell_type": "code",
   "execution_count": 6,
   "metadata": {},
   "outputs": [],
   "source": [
    "ela_math = pd.merge(ela, math, on=['dbn', 'grade','test_year', 'category'])\n",
    "for col in ela_math.columns:\n",
    "    if col.endswith('_x'):\n",
    "        new_col_name = col.replace('_x', '_ela')\n",
    "        ela_math = ela_math.rename(columns={col: new_col_name})\n",
    "    elif col.endswith('_y'):\n",
    "        new_col_name = col.replace('_y', '_math')\n",
    "        ela_math = ela_math.rename(columns={col: new_col_name})\n",
    "\n",
    "\n",
    "ela_math = ela_math[['dbn', 'ay_ela', 'test_year', 'grade', 'category', 'number_tested_ela', 'mean_scale_score_ela',\n",
    "                      'number_tested_math', 'mean_scale_score_math']]\n",
    "\n",
    "ela_math.rename(columns={ 'mean_scale_score_ela': 'mean_score_ela', 'ay_ela': 'ay', 'number_tested_ela': 'num_tested_ela','number_tested_math': 'num_tested_math', 'mean_scale_score_math': 'mean_score_math'}, inplace=True)\n"
   ]
  },
  {
   "attachments": {},
   "cell_type": "markdown",
   "metadata": {},
   "source": [
    "We will also select specific columns from the school demographics data and merge it with the ELA and Math exam data:"
   ]
  },
  {
   "cell_type": "code",
   "execution_count": 7,
   "metadata": {},
   "outputs": [],
   "source": [
    "demo = demo[['dbn', 'beds', 'district', 'geo_district', 'boro', 'school_name',\n",
    "       'short_name', 'ay', 'school_type', 'total_enrollment', 'zip', 'asian_pct', \n",
    "       'black_pct', 'hispanic_pct', 'multi_racial_pct','native_american_pct', 'white_pct']]\n",
    "demo_math_ela = demo.merge(ela_math, on=[\"dbn\", \"ay\"])"
   ]
  },
  {
   "attachments": {},
   "cell_type": "markdown",
   "metadata": {},
   "source": [
    "Lastly, we will rename the demo_math_ela dataframe to data and choose/reorder columns for analysis:"
   ]
  },
  {
   "cell_type": "code",
   "execution_count": 8,
   "metadata": {},
   "outputs": [],
   "source": [
    "data = demo_math_ela[['dbn','beds', 'ay',\n",
    "        'test_year','district', 'geo_district', 'boro', 'school_name',\n",
    "       'short_name', 'school_type', 'zip', 'total_enrollment', 'asian_pct', \n",
    "       'black_pct', 'hispanic_pct', 'multi_racial_pct','native_american_pct', 'white_pct', 'category', 'grade', 'num_tested_ela',\n",
    "       'mean_score_ela', 'num_tested_math', 'mean_score_math']]"
   ]
  },
  {
   "attachments": {},
   "cell_type": "markdown",
   "metadata": {},
   "source": [
    "### <u>Data Analysis</u>\n",
    "\n",
    "Now that we have our data loaded and merged, we can start analyzing it. Our goal is to identify patterns in the data that can help us understand how different schools with similar student populations are performing.   "
   ]
  },
  {
   "attachments": {},
   "cell_type": "markdown",
   "metadata": {},
   "source": [
    "In the next cell, we will import all the necessary Python libraries for data analysis and visualization:"
   ]
  },
  {
   "cell_type": "code",
   "execution_count": 9,
   "metadata": {},
   "outputs": [],
   "source": [
    "import pandas as pd\n",
    "import numpy as np\n",
    "import matplotlib.pyplot as plt\n",
    "from sklearn.cluster import KMeans\n",
    "from sklearn.preprocessing import StandardScaler"
   ]
  },
  {
   "attachments": {},
   "cell_type": "markdown",
   "metadata": {},
   "source": [
    "#### <u>Data Cleaning</u>\n",
    "\n",
    "Before we can perform any analysis, we need to clean the data and prepare it for clustering. We will filter the data to only include observations from the 2018 school year, grade 5, and all students:"
   ]
  },
  {
   "cell_type": "code",
   "execution_count": 10,
   "metadata": {},
   "outputs": [],
   "source": [
    "filtered_data = data[(data['test_year'] == 2018) & (data['grade'] == '4') & (data['category'] == 'All Students')]"
   ]
  },
  {
   "attachments": {},
   "cell_type": "markdown",
   "metadata": {},
   "source": [
    "We will then select the relevant columns for clustering:"
   ]
  },
  {
   "cell_type": "code",
   "execution_count": 11,
   "metadata": {},
   "outputs": [],
   "source": [
    "cluster_data = filtered_data[['asian_pct', 'black_pct', 'hispanic_pct', 'multi_racial_pct', 'native_american_pct', 'white_pct']]"
   ]
  },
  {
   "attachments": {},
   "cell_type": "markdown",
   "metadata": {},
   "source": [
    "We will drop any missing values from the data and standardize the variables using StandardScaler to ensure that each variable has a mean of 0 and standard deviation of 1:"
   ]
  },
  {
   "cell_type": "code",
   "execution_count": 12,
   "metadata": {},
   "outputs": [],
   "source": [
    "# drop rows with missing values\n",
    "cluster_data = cluster_data.dropna()\n",
    "\n",
    "# standardize the data\n",
    "scaler = StandardScaler()\n",
    "scaled_data = scaler.fit_transform(cluster_data)"
   ]
  },
  {
   "attachments": {},
   "cell_type": "markdown",
   "metadata": {},
   "source": [
    "#### <u>Clustering</u>\n",
    "\n",
    "Clustering is an unsupervised machine learning technique that involves grouping similar observations together into clusters. The goal of clustering is to identify patterns and structure in the data, and to partition the data into groups based on similarity.\n",
    "\n",
    "In this tutorial, we will use K-Means clustering to group schools based on student performance on ELA and Math exams. K-Means is a popular clustering algorithm that works by partitioning the data into K clusters, where K is a user-defined parameter. The algorithm starts by randomly assigning each observation to a cluster, and then iteratively updates the cluster centers and reassigns observations to the closest cluster until convergence.\n",
    "\n",
    "Before we can perform clustering, we need to prepare the data by selecting relevant features and standardizing the variables. In this tutorial, we will select the percentages of students in each racial category (Asian, Black, Hispanic, Multi-Racial, Native American, and White) as the features for clustering. We will also standardize the data using StandardScaler to ensure that all variables have a mean of 0 and a standard deviation of 1.\n",
    "\n",
    "To determine the optimal number of clusters for our data, we will use the elbow method. The elbow method involves plotting the within-cluster sum of squares (WCSS) as a function of the number of clusters, and selecting the number of clusters at the \"elbow\" of the curve. The elbow represents the point of diminishing returns, where adding more clusters does not significantly reduce the WCSS.\n",
    "\n",
    "In this tutorial, we will use matplotlib.pyplot to create the elbow plot:\n"
   ]
  },
  {
   "cell_type": "code",
   "execution_count": 13,
   "metadata": {},
   "outputs": [
    {
     "data": {
      "image/png": "[encoded data removed]",
      "text/plain": [
       "<Figure size 640x480 with 1 Axes>"
      ]
     },
     "metadata": {},
     "output_type": "display_data"
    }
   ],
   "source": [
    "# Initialize an empty list to store the within-cluster sum of squares (WCSS)\n",
    "wcss = []\n",
    "\n",
    "# Set the range of possible cluster numbers to test\n",
    "max_clusters = 10\n",
    "\n",
    "for i in range(1, max_clusters + 1):\n",
    "    kmeans = KMeans(n_clusters=i, init='k-means++', max_iter=300, n_init=10, random_state=42)\n",
    "    kmeans.fit(scaled_data)\n",
    "    wcss.append(kmeans.inertia_)\n",
    "\n",
    "# Plot the elbow graph\n",
    "plt.plot(range(1, max_clusters + 1), wcss)\n",
    "plt.title('Elbow Method')\n",
    "plt.xlabel('Number of clusters')\n",
    "plt.ylabel('Within-Cluster Sum of Squares (WCSS)')\n",
    "plt.grid(True)\n",
    "plt.show()\n"
   ]
  },
  {
   "attachments": {},
   "cell_type": "markdown",
   "metadata": {},
   "source": [
    "Based on the elbow plot, we will choose 6 clusters for our analysis. We will then perform K-Means clustering on the scaled data using 6 clusters:"
   ]
  },
  {
   "cell_type": "code",
   "execution_count": 14,
   "metadata": {},
   "outputs": [],
   "source": [
    "# Choose the optimal number of clusters (k) based on the elbow graph\n",
    "k = 6\n",
    "\n",
    "# Initialize the k-means model and fit it to the data\n",
    "kmeans = KMeans(n_clusters=k, n_init=10, random_state=42)\n",
    "kmeans.fit(scaled_data)\n",
    "\n",
    "# Assign the cluster labels to each data point\n",
    "cluster_labels = kmeans.labels_"
   ]
  },
  {
   "attachments": {},
   "cell_type": "markdown",
   "metadata": {},
   "source": [
    "We will add the cluster labels back to our filtered data:"
   ]
  },
  {
   "cell_type": "code",
   "execution_count": 16,
   "metadata": {},
   "outputs": [],
   "source": [
    "filtered_data.loc[cluster_data.index, 'cluster'] = cluster_labels"
   ]
  },
  {
   "attachments": {},
   "cell_type": "markdown",
   "metadata": {},
   "source": [
    "#### <u>Data Visualization</u>\n",
    "\n",
    "After clustering, we can visualize the results using scatter plots. Scatter plots are a useful visualization tool for exploring relationships between two continuous variables.\n",
    "\n",
    "In this tutorial, we will create two scatter plots: one using matplotlib.pyplot and one using plotly.express. The matplotlib.pyplot scatter plot will show the relationship between mean Math and ELA scores for each cluster, while the plotly.express scatter plot will show the same information but with the addition of interactivity with school names and cluster labels.\n",
    "\n",
    "Here's the code for the matplotlib.pyplot scatter plot:"
   ]
  },
  {
   "cell_type": "code",
   "execution_count": 17,
   "metadata": {},
   "outputs": [
    {
     "data": {
      "image/png": "[encoded data removed]",
      "text/plain": [
       "<Figure size 800x600 with 1 Axes>"
      ]
     },
     "metadata": {},
     "output_type": "display_data"
    }
   ],
   "source": [
    "# Create a new DataFrame with the mean_score_ela, mean_score_math, and cluster labels\n",
    "plot_data = filtered_data[['mean_score_ela', 'mean_score_math']].copy()\n",
    "plot_data['Cluster'] = cluster_labels\n",
    "\n",
    "# Visualize the clusters using a scatterplot\n",
    "plt.figure(figsize=(8, 6))\n",
    "colors = ['red', 'blue', 'green', 'purple', 'orange', 'gray', 'pink', 'cyan', 'brown', 'black']\n",
    "\n",
    "for i in range(k):\n",
    "    plt.scatter(plot_data.loc[plot_data['Cluster'] == i, 'mean_score_math'], plot_data.loc[plot_data['Cluster'] == i, 'mean_score_ela'], c=colors[i], label=f'Cluster {i}', s=6, alpha = 0.5)\n",
    "\n",
    "plt.xlabel('Mean Score Math')\n",
    "plt.ylabel('Mean Score ELA')\n",
    "plt.title('K-Means Clustering Visualization')\n",
    "plt.legend()\n",
    "plt.grid(True)\n",
    "plt.show();"
   ]
  },
  {
   "attachments": {},
   "cell_type": "markdown",
   "metadata": {},
   "source": [
    "And here's the code for the plotly.express scatter plot:"
   ]
  },
  {
   "cell_type": "code",
   "execution_count": 18,
   "metadata": {},
   "outputs": [
    {
     "data": {
      "application/vnd.plotly.v1+json": {
       "config": {
        "plotlyServerURL": "https://plot.ly"
       },
       "data": [
        {
         "customdata": [
          [
           "P.S. 015 Roberto Clemente"
          ],
          [
           "P.S. 120 Carlos Tapia"
          ],
          [
           "P.S. 018 Edward Bush"
          ],
          [
           "P.S. 017 Henry D. Woodworth"
          ],
          [
           "P.S. 016 Leonard Dunkly"
          ],
          [
           "Bronx Little School"
          ],
          [
           "P.S. 536"
          ],
          [
           "Archer Elementary School"
          ],
          [
           "Urban Scholars Community School"
          ],
          [
           "Fairmont Neighborhood School"
          ],
          [
           "The School of Science and Applied Learning"
          ],
          [
           "P.S. 214"
          ],
          [
           "P.S. 211"
          ],
          [
           "P.S. 196"
          ],
          [
           "P.S. 195"
          ],
          [
           "P.S. 150 Charles James Fox"
          ],
          [
           "P.S. 134 George F. Bristow"
          ],
          [
           "P.S. 067 Mohegan School"
          ],
          [
           "P.S. 066 School of Higher Expectations"
          ],
          [
           "P.S. 061 Francisco Oller"
          ],
          [
           "P.S. 057 Crescent"
          ],
          [
           "P.S. 047 John Randolph"
          ],
          [
           "P.S. 147 Isaac Remsen"
          ],
          [
           "P.S./I.S. 157 The Benjamin Franklin Health & Scien"
          ],
          [
           "P.S. 196 Ten Eyck"
          ],
          [
           "P.S. 250 George H. Lindsay"
          ],
          [
           "P.S. 014 Fairview"
          ],
          [
           "P.S. 013 Clement C. Moore"
          ],
          [
           "P.S. 139 Alexine A. Fenty"
          ],
          [
           "P.S. 90 Edna Cohen School"
          ],
          [
           "P.S. 506: The School of Journalism & Technology"
          ],
          [
           "P.S. 503: The School of Discovery"
          ],
          [
           "P.S. 345 Patrolman Robert Bolden"
          ],
          [
           "P.S. 290 Juan Morel Campos"
          ],
          [
           "P.S. 108 Sal Abbracciamento"
          ],
          [
           "P.S. 089 Cypress Hills"
          ],
          [
           "P.S. 044 David C. Farragut"
          ],
          [
           "P.S. 065"
          ],
          [
           "P.S. 249 The Caton"
          ],
          [
           "Sunset Park Avenues Elementary School"
          ],
          [
           "P.S. 172 Beacon School of Excellence"
          ],
          [
           "P.S. 131 Brooklyn"
          ],
          [
           "P.S. 124 Silas B. Dutcher"
          ],
          [
           "P.S. 024"
          ],
          [
           "P.S. 001 The Bergen"
          ],
          [
           "P.S. 380 John Wayne Elementary"
          ],
          [
           "P.S. 297 Abraham Stockton"
          ],
          [
           "P.S. 257 John F. Hylan"
          ],
          [
           "P.S. 007 Abraham Lincoln"
          ],
          [
           "P.S. 006 West Farms"
          ],
          [
           "Linden Tree Elementary School"
          ],
          [
           "P.S./M.S. 11X498 - Van Nest Academy"
          ],
          [
           "P.S. 205 Fiorello LaGuardia"
          ],
          [
           "P.S. 159 Luis Munoz Marin Biling"
          ],
          [
           "P.S. 095 Sheila Mencher"
          ],
          [
           "P.S. 094 Kings College School"
          ],
          [
           "P.S. 091 Bronx"
          ],
          [
           "P.S. 091 Bronx"
          ],
          [
           "P.S. 091 Bronx"
          ],
          [
           "P.S. 091 Bronx"
          ],
          [
           "P.S. 086 Kingsbridge Heights"
          ],
          [
           "P.S. 085 Great Expectations"
          ],
          [
           "P.S. 226"
          ],
          [
           "P.S. 059 The Community School of Technology"
          ],
          [
           "P.S./I.S. 54"
          ],
          [
           "The Bronx STEM and Arts Academy"
          ],
          [
           "P.S. 046 Edgar Allan Poe"
          ],
          [
           "P.S. X037 - Multiple Intelligence School"
          ],
          [
           "P.S. 033 Timothy Dwight"
          ],
          [
           "P.S. 032 Belmont"
          ],
          [
           "P.S. 023 The New Children's School"
          ],
          [
           "PS/MS 20 P.O.George J. Werdann, III"
          ],
          [
           "P.S. X015 Institute for Environmental Learning"
          ],
          [
           "P.S. 9 Ryer Avenue Elementary School"
          ],
          [
           "P.S. 056 Norwood Heights"
          ],
          [
           "P.S. Q016 The Nancy DeBenedittis School"
          ],
          [
           "P.S. 246 Poe Center"
          ],
          [
           "P.S./M.S. 280 Mosholu Parkway"
          ],
          [
           "Young Voices Academy of the Bronx"
          ],
          [
           "P.S. 105 Sen Abraham Bernstein"
          ],
          [
           "P.S. 097 Bronx"
          ],
          [
           "P.S. 096 Richard Rodgers"
          ],
          [
           "P.S. 096 Richard Rodgers"
          ],
          [
           "P.S. 096 Richard Rodgers"
          ],
          [
           "P.S. 096 Richard Rodgers"
          ],
          [
           "P.S. 089 Bronx"
          ],
          [
           "P.S. 396"
          ],
          [
           "School for Environmental Citizenship"
          ],
          [
           "P.S. 279 Captain Manuel Rivera, Jr."
          ],
          [
           "Elementary School for Math, Science, and Technolog"
          ],
          [
           "Ampark Neighborhood"
          ],
          [
           "P.S. 340"
          ],
          [
           "P.S. 315 Lab School"
          ],
          [
           "P.S. 310 Marble Hill"
          ],
          [
           "Luisa Pineiro Fuentes School of Science and Discov"
          ],
          [
           "P.S. 306"
          ],
          [
           "P.S. 291"
          ],
          [
           "P.S./M.S. 280 Mosholu Parkway"
          ],
          [
           "P.S./M.S. 280 Mosholu Parkway"
          ],
          [
           "P.S./M.S. 280 Mosholu Parkway"
          ],
          [
           "P.S. 360"
          ],
          [
           "P.S. 019 Marino Jeantet"
          ],
          [
           "P.S. 068 Cambridge"
          ],
          [
           "P.S. 071 Forest"
          ],
          [
           "VOICE Charter School of New York"
          ],
          [
           "VOICE Charter School of New York"
          ],
          [
           "VOICE Charter School of New York"
          ],
          [
           "Amber Charter School"
          ],
          [
           "East Harlem Scholars Academy Charter School"
          ],
          [
           "DREAM Charter School"
          ],
          [
           "KIPP Infinity Charter School"
          ],
          [
           "Manhattan Charter School"
          ],
          [
           "Success Academy Charter School - Washington Height"
          ],
          [
           "Success Academy Charter School - Hell's Kitchen"
          ],
          [
           "VOICE Charter School of New York"
          ],
          [
           "East Harlem Scholars Academy Charter School II"
          ],
          [
           "Manhattan Charter School II"
          ],
          [
           "KIPP NYC Washington Heights Academy Charter School"
          ],
          [
           "Bushwick Ascend Charter School"
          ],
          [
           "Achievement First North Brooklyn Prep Charter Scho"
          ],
          [
           "PAVE Academy Charter School"
          ],
          [
           "Achievement First Bushwick Charter School"
          ],
          [
           "Success Academy Charter School - Williamsburg"
          ],
          [
           "Beginning with Children Charter School II"
          ],
          [
           "P.S. /I.S. 384 Frances E. Carter"
          ],
          [
           "P.S. 377 Alejandrina B. De Gautier"
          ],
          [
           "Global Community Charter School"
          ],
          [
           "P.S. 376"
          ],
          [
           "Academy of the City Charter School"
          ],
          [
           "Children's Aid College Prep Charter School"
          ],
          [
           "Family Life Academy Charter School"
          ],
          [
           "KIPP Academy Charter School"
          ],
          [
           "New York City Montessori Charter School"
          ],
          [
           "Academic Leadership Charter School"
          ],
          [
           "Girls Preparatory Charter School of the Bronx"
          ],
          [
           "Family Life Academy Charter School III"
          ],
          [
           "Boys Preparatory Charter School of New York"
          ],
          [
           "Metropolitan Lighthouse Charter School"
          ],
          [
           "Bronx Academy of Promise Charter School"
          ],
          [
           "Bronx Charter School for Children"
          ],
          [
           "Renaissance Charter School"
          ],
          [
           "Bronx Community Charter School"
          ],
          [
           "Bronx Global Learning Institute for Girls Charter"
          ],
          [
           "Brilla College Prep Charter School"
          ],
          [
           "Icahn Charter School 2"
          ],
          [
           "South Bronx Classical Charter School II"
          ],
          [
           "South Bronx Classical Charter School"
          ],
          [
           "Hyde Leadership Charter School"
          ],
          [
           "South Bronx Charter School for International Cultu"
          ],
          [
           "Family Life Academy Charter School II"
          ],
          [
           "Pharos Academy Charter School"
          ],
          [
           "Grand Concourse Charter School"
          ],
          [
           "Mott Haven Academy Charter School"
          ],
          [
           "P.S. 008 Isaac Varian"
          ],
          [
           "P.S. 274 Kosciusko"
          ],
          [
           "P.S. 145 Andrew Jackson"
          ],
          [
           "P.S. 054 Hillside"
          ],
          [
           "Wave Preparatory Elementary School"
          ],
          [
           "New York City Academy for Discovery"
          ],
          [
           "P.S. 273"
          ],
          [
           "P.S. 254 - The Rosa Parks School"
          ],
          [
           "P.S. 253"
          ],
          [
           "P.S. 097 Forest Park"
          ],
          [
           "P.S. 090 Horace Mann"
          ],
          [
           "P.S. 066 Jacqueline Kennedy Onassis"
          ],
          [
           "P.S. 060 Woodhaven"
          ],
          [
           "P.S. 082 Hammond"
          ],
          [
           "P.S./M.S. 200 - The Magnet School of Global Studie"
          ],
          [
           "Helen M. Marshall School"
          ],
          [
           "Pioneer Academy"
          ],
          [
           "Learners and Leaders"
          ],
          [
           "P.S. 239"
          ],
          [
           "Elm Tree Elementary School"
          ],
          [
           "P.S. 199 Maurice A. Fitzgerald"
          ],
          [
           "P.S. 143 Louis Armstrong"
          ],
          [
           "P.S. 110"
          ],
          [
           "P.S. 089 Elmhurst"
          ],
          [
           "P.S. 81Q Jean Paul Richter"
          ],
          [
           "P.S. 029 Queens"
          ],
          [
           "P.S. 151 Lyndon B. Johnson"
          ],
          [
           "P.S. 182 Samantha Smith"
          ],
          [
           "P.S. 076 William Hallet"
          ],
          [
           "P.S. 123 Suydam"
          ],
          [
           "P.S. 116 Elizabeth L Farrell"
          ],
          [
           "P.S. 106 Edward Everett Hale"
          ],
          [
           "P.S. 086 The Irvington"
          ],
          [
           "P.S. 075 Mayda Cortiella"
          ],
          [
           "P.S./I.S. 045 Horace E. Greene"
          ],
          [
           "P.S. 74 Future Leaders Elementary School"
          ],
          [
           "P.S. 044 Thomas C. Brown"
          ],
          [
           "P.S. 022 Graniteville"
          ],
          [
           "P.S. 21 Margaret Emery-Elm Park"
          ],
          [
           "P.S. 017 Henry David Thoreau"
          ],
          [
           "P.S. 020 Port Richmond"
          ],
          [
           "P.S. 016 John J. Driscoll"
          ],
          [
           "East Elmhurst Community School"
          ],
          [
           "P.S. 280"
          ],
          [
           "P.S. 212"
          ],
          [
           "P.S. 171 Peter G. Van Alst"
          ],
          [
           "P.S. 151 Mary D. Carter"
          ],
          [
           "P.S. 149 Christa McAuliffe"
          ],
          [
           "P.S. 148 Queens"
          ],
          [
           "P.S. 127 Aerospace Science Magnet School"
          ],
          [
           "P.S. 092 Harry T. Stewart Sr."
          ],
          [
           "P.S. 019 The Curtis School"
          ],
          [
           "Milton Fein School"
          ],
          [
           "Bronx Charter School for the Arts"
          ],
          [
           "Mount Eden Children's Academy"
          ],
          [
           "P.S. 001 Courtlandt School"
          ],
          [
           "Castle Bridge School"
          ],
          [
           "Hamilton Heights School"
          ],
          [
           "P.S. 020 Anna Silver"
          ],
          [
           "P.S. 034 Franklin D. Roosevelt"
          ],
          [
           "River East Elementary"
          ],
          [
           "P.S. 5 Port Morris"
          ],
          [
           "P.S. 075 Emily Dickinson"
          ],
          [
           "James Weldon Johnson"
          ],
          [
           "The Lexington Academy"
          ],
          [
           "Washington Heights Academy"
          ],
          [
           "Amistad Dual Language School"
          ],
          [
           "P.S. 083 Luis Munoz Rivera"
          ],
          [
           "P.S. 096 Joseph Lanzetta"
          ],
          [
           "P.S. 38 Roberto Clemente"
          ],
          [
           "P.S. 102 Jacques Cartier"
          ],
          [
           "P.S. 018 John Peter Zenger"
          ],
          [
           "P.S./M.S. 029 Melrose School"
          ],
          [
           "P.S. 036 Unionport"
          ],
          [
           "P.S. X014 Senator John Calandra"
          ],
          [
           "Young Leaders Elementary School"
          ],
          [
           "Concourse Village Elementary School"
          ],
          [
           "P.S. 277"
          ],
          [
           "P.S. 179"
          ],
          [
           "P.S. 025 Bilingual School"
          ],
          [
           "P.S. 161 Juan Ponce De Leon School"
          ],
          [
           "P.S. 154 Jonathan D. Hyatt"
          ],
          [
           "P.S. 065 Mother Hale Academy"
          ],
          [
           "P.S. 049 Willis Avenue"
          ],
          [
           "P.S. 043 Jonas Bronck"
          ],
          [
           "P.S./M.S. 031 The William Lloyd Garrison"
          ],
          [
           "P.S. 030 Wilton"
          ],
          [
           "P.S. 157 Grove Hill"
          ],
          [
           "P.S. 108 Assemblyman Angelo Del Toro Educational C"
          ],
          [
           "Paula Hedbavny School"
          ],
          [
           "P.S./I.S. 210 - Twenty-first Century Academy for C"
          ],
          [
           "The Bilingual Bicultural School"
          ],
          [
           "P.S. 206 Jose Celso Barbosa"
          ],
          [
           "P.S. 048 P.O. Michael J. Buczek"
          ],
          [
           "Mosaic Preparatory Academy"
          ],
          [
           "P.S. 3 Raul Julia Micro Society"
          ],
          [
           "P.S. 030 Hernandez/Hughes"
          ],
          [
           "P.S. 098 Shorac Kappock"
          ],
          [
           "P.S. 036 Margaret Douglas"
          ],
          [
           "P.S. 018 Park Terrace"
          ],
          [
           "P.S. 008 Luis Belliard"
          ],
          [
           "P.S. 005 Ellen Lurie"
          ],
          [
           "P.S. 161 Pedro Albizu Campos"
          ],
          [
           "P.S. 004 Duke Ellington"
          ],
          [
           "P.S. 111 Adolph S. Ochs"
          ],
          [
           "P.S. 028 Wright Brothers"
          ],
          [
           "P.S. 188 The Island School"
          ],
          [
           "Dos Puentes Elementary School"
          ],
          [
           "P.S. 171 Patrick Henry"
          ],
          [
           "P.S. 192 Jacob H. Schiff"
          ],
          [
           "P.S. 189"
          ],
          [
           "Professor Juan Bosch Public School"
          ],
          [
           "P.S. 173"
          ],
          [
           "P.S. 153 Adam Clayton Powell"
          ],
          [
           "P.S. 152 Dyckman Valley"
          ],
          [
           "P.S. 132 Juan Pablo Duarte"
          ],
          [
           "P.S. 064 Robert Simon"
          ],
          [
           "P.S. 134 Henrietta Szold"
          ],
          [
           "P.S. 146 Ann M. Short"
          ],
          [
           "P.S. 140 Nathan Straus"
          ],
          [
           "P.S. 128 Audubon"
          ],
          [
           "P.S. 115 Alexander Humboldt"
          ],
          [
           "P.S. 155 William Paca"
          ],
          [
           "P.S. 142 Amalia Castro"
          ],
          [
           "P.S. 048 Joseph R. Drake"
          ],
          [
           "P.S. 019 Asher Levy"
          ],
          [
           "The STAR Academy - P.S.63"
          ],
          [
           "The Longwood Academy of Discovery"
          ],
          [
           "The Riverside School for Makers and Artists"
          ],
          [
           "P.S. 053 Basheer Quisim"
          ],
          [
           "The Family School"
          ],
          [
           "P.S. 107"
          ],
          [
           "The Dr. Emmett W. Bassett School"
          ],
          [
           "P.S. 126 Dr Marjorie H Dunbar"
          ],
          [
           "P.S. 130 Abram Stevens Hewitt"
          ],
          [
           "P.S. 138 Samuel Randall"
          ],
          [
           "P.S. X140 The Eagle School"
          ],
          [
           "P.S. 146 Edward Collins"
          ],
          [
           "P.S. 152 Evergreen"
          ],
          [
           "P.S. 182"
          ],
          [
           "P.S. 182"
          ],
          [
           "P.S. 182"
          ],
          [
           "P.S. 182"
          ],
          [
           "P.S. X114 - Luis Llorens Torres Schools"
          ],
          [
           "P.S. 304 Early Childhood School"
          ],
          [
           "P.S. 163 Arthur A. Schomburg"
          ],
          [
           "P.S. 110 Theodore Schoenfeld"
          ],
          [
           "P.S. 109 Sedgwick"
          ],
          [
           "P.S. 011 Highbridge"
          ],
          [
           "P.S. 073 Bronx"
          ],
          [
           "P.S. 070 Max Schoenfeld"
          ],
          [
           "P.S. 028 Mount Hope"
          ],
          [
           "P.S. 035 Franz Siegel"
          ],
          [
           "P.S. 063 Author's Academy"
          ],
          [
           "Grant Avenue Elementary School"
          ],
          [
           "P.S. 042 Claremont"
          ],
          [
           "P.S. 058"
          ],
          [
           "P.S. 145, The Bloomingdale School"
          ],
          [
           "The Walton Avenue School"
          ],
          [
           "Lucero Elementary School"
          ],
          [
           "The New American Academy at Roberto Clemente State"
          ],
          [
           "P.S. 132 Garret A. Morgan"
          ],
          [
           "Sheridan Academy for Young Leaders"
          ],
          [
           "P.S. 199X - The Shakespeare School"
          ],
          [
           "P.S. 062 Inocensio Casanova"
          ],
          [
           "P.S. 204 Morris Heights"
          ],
          [
           "P.S. 069 Journey Prep School"
          ],
          [
           "P.S. 071 Rose E. Scala"
          ],
          [
           "P.S. 072 Dr. William Dorney"
          ],
          [
           "P.S. 75 School of Research and Discovery"
          ],
          [
           "P.S. 100 Isaac Clason"
          ],
          [
           "P.S./I.S. 218 Rafael Hernandez Dual Language Magne"
          ],
          [
           "P.S. 165 Robert E. Simon"
          ],
          [
           "P.S. 007 Samuel Stern"
          ],
          [
           "P.S. 236 Langston Hughes"
          ]
         ],
         "hovertemplate": "Cluster=0<br>mean_score_math=%{x}<br>mean_score_ela=%{y}<br>school_name=%{customdata[0]}<extra></extra>",
         "legendgroup": "0",
         "marker": {
          "color": "#636efa",
          "opacity": 0.5,
          "symbol": "circle"
         },
         "mode": "markers",
         "name": "0",
         "orientation": "v",
         "showlegend": true,
         "type": "scatter",
         "x": [
          603.0740967,
          597.4799805,
          592.5714111,
          597.8421021,
          586.1714478,
          594.4615479,
          584.765625,
          593.1038818,
          589.8571167,
          581.3518677,
          586.4536133,
          594.8900146,
          590.2075195,
          589.3401489,
          581.8322144,
          588.2153931,
          584.0899048,
          592.4111328,
          589.8736572,
          587.1400146,
          588.013916,
          585.8223267,
          601.8386841,
          589.6923218,
          592.8250122,
          591.5263062,
          592.5529785,
          602.6783447,
          593.8300781,
          588.8901367,
          594.3761597,
          592.2185669,
          587.2988281,
          592.4556885,
          603.3386841,
          577.8297729,
          593.5384521,
          607.3718872,
          613.8361816,
          592.5,
          623.833313,
          606.6087036,
          599.2000122,
          588.8979492,
          596.0662842,
          598.6144409,
          585.4827881,
          600.9603882,
          593.7445068,
          581.8046265,
          590.777771,
          604.6984253,
          593.3181763,
          591.1304321,
          592.375,
          581.7189331,
          592.3464355,
          592.3464355,
          592.3464355,
          592.3464355,
          601.5516968,
          584.1986084,
          589.0810547,
          581.0238037,
          580.4053955,
          591,
          588.4655151,
          591.7092896,
          596.0666504,
          583.1591187,
          585.0689697,
          590.5825195,
          603.963623,
          587.607666,
          597.6732788,
          593.5269775,
          583.4796753,
          597.1744385,
          602.1509399,
          590.7383423,
          597.56604,
          594.2666626,
          594.2666626,
          594.2666626,
          594.2666626,
          596.8251953,
          578.3846436,
          583.9204712,
          588.3894043,
          586.3653564,
          604.0181885,
          590.4242554,
          586.8275757,
          588.4000244,
          588.3508911,
          587.5158691,
          591.3457642,
          597.1744385,
          597.1744385,
          597.1744385,
          591.8225708,
          597.2006226,
          597.862915,
          595.6692505,
          605,
          605,
          605,
          603,
          611,
          609,
          605,
          618,
          628,
          631,
          605,
          598,
          599,
          608,
          612,
          618,
          613,
          614,
          627,
          602,
          588.8235474,
          583.638916,
          596,
          611.7654419,
          610,
          608,
          608,
          608,
          591,
          611,
          602,
          604,
          600,
          594,
          604,
          596,
          606,
          594,
          592,
          608,
          623,
          618,
          616,
          599,
          599,
          619,
          605,
          598,
          602,
          590.366272,
          584.5535889,
          593.1195679,
          596.5106201,
          604.0952148,
          597.2459106,
          600.6538696,
          601.177063,
          591.5888672,
          600.1186523,
          601.2214355,
          611,
          606.9371948,
          592.1775513,
          594.1363525,
          595.1151123,
          601.3594971,
          602.9342041,
          595.1500244,
          594.9729614,
          600.138916,
          589.7700195,
          600.0200195,
          601.0531006,
          598.809082,
          605.4285889,
          592.8444214,
          590.2857056,
          591.8688354,
          593.6117554,
          597.2328491,
          594.3432617,
          589.3571167,
          589.4528198,
          588.9491577,
          590.0877075,
          585.4615479,
          592.1519165,
          593.75,
          590.9752808,
          594.8241577,
          584.0808105,
          594.0322876,
          606.1941528,
          609.0465088,
          591.6781616,
          599.6785889,
          594.65802,
          593.539978,
          594.9838867,
          595.9848633,
          591.8046265,
          602.347229,
          600,
          608.4310303,
          585.083313,
          null,
          582.75,
          594.763916,
          586.3030396,
          590.6956787,
          583.5302734,
          599.1829224,
          591.6585083,
          589.8928833,
          606.3863525,
          596.5,
          605.3285522,
          582.9755859,
          574.7241211,
          595.4650879,
          588.0256348,
          584.3209839,
          598.1386108,
          604.2653198,
          588.8974609,
          615.666687,
          589.3442383,
          580.7209473,
          604.6087036,
          593.557373,
          589.8771973,
          597.1489258,
          602.8764038,
          593.7532349,
          586.8666382,
          588.1298828,
          591.8969116,
          588.8536377,
          603.6206665,
          603.2750244,
          597.6034546,
          590.4050903,
          585.7999878,
          588.9729614,
          589.75,
          592.2903442,
          588.0769043,
          585.8510742,
          595.8823242,
          597.4677124,
          591.7297363,
          583.8795166,
          588.8928833,
          591.3585205,
          598.6776733,
          592.8095093,
          591.9215698,
          611.43396,
          591.2571411,
          593.4887085,
          600.527771,
          602.416687,
          591.8977051,
          585.9529419,
          594.75,
          594.5666504,
          589.1702271,
          583.9111328,
          580.0499878,
          592.333313,
          587.111084,
          580.2000122,
          585.1470337,
          585.7184448,
          594.1613159,
          603.043457,
          586.9708862,
          596.472229,
          598.7044067,
          588.8513794,
          594.6578979,
          594.5230713,
          589.3932495,
          588.3974609,
          593.0114746,
          584.0459595,
          596.8793335,
          589.7123413,
          598.6911621,
          598.6911621,
          598.6911621,
          598.6911621,
          585.671875,
          603.5230713,
          585.0384521,
          587.7313232,
          590.758606,
          586.9195557,
          574.4642944,
          586.4154053,
          589.960022,
          586.8857422,
          598.3125,
          593.5789185,
          594.8928833,
          588.8903809,
          585.7555542,
          620.2545166,
          582.1972046,
          585.4000244,
          582.7705078,
          596.7999878,
          591.0490112,
          592.71698,
          604.7521973,
          611.6170044,
          597.7216797,
          593.3392944,
          591.2142944,
          585.6738892,
          590.3457642,
          607.9420166,
          593.4285889,
          600.3800049
         ],
         "xaxis": "x",
         "y": [
          611.1923218,
          595.708313,
          591.3181763,
          593.3243408,
          592.6571655,
          594.2352905,
          583.2698364,
          598.2236938,
          595.5405273,
          575.3962402,
          590.1505127,
          596.8265381,
          584.0188599,
          589.6524658,
          585.7241211,
          588.611084,
          592.3666382,
          593.1609497,
          592.0106201,
          591.777771,
          595.4000244,
          590,
          603.9714355,
          586.5405273,
          594.8636475,
          592.4574585,
          593.9205933,
          601.960022,
          596.5454712,
          595.9663086,
          592.9047852,
          592.2365112,
          588.1685181,
          595.4285889,
          609.1749878,
          580.5952148,
          593.5599976,
          609.6228027,
          613.2155151,
          591.8648682,
          625.5211182,
          605.961792,
          606.2333374,
          591.302063,
          595.1420288,
          599.333313,
          591.7857056,
          606.9191895,
          596.2857056,
          584.4146118,
          595.0454712,
          599.1774292,
          594.4610596,
          605.4782715,
          594.9492798,
          586.5297241,
          594.3064575,
          594.3064575,
          594.3064575,
          594.3064575,
          597.0357056,
          584.3380127,
          590.2575684,
          581.204834,
          586.7324219,
          591.7999878,
          586.5654907,
          589.883728,
          593.1395264,
          590.2479858,
          588,
          590.8800049,
          598.9464111,
          591.1102295,
          602.4545288,
          593.0932617,
          583.0683594,
          597.383728,
          599.5283203,
          593.4363403,
          599.7091064,
          593.5766602,
          593.5766602,
          593.5766602,
          593.5766602,
          596.5646362,
          584.1428833,
          586.80896,
          591.75,
          588.2000122,
          602.9107056,
          595.8947144,
          596.0344849,
          591.527771,
          591.9454346,
          586.2727051,
          596.4326782,
          597.383728,
          597.383728,
          597.383728,
          601.0476074,
          597.2105103,
          601.2966309,
          597.5317383,
          600,
          600,
          600,
          601,
          606,
          609,
          601,
          608,
          618,
          624,
          600,
          600,
          604,
          604,
          604,
          609,
          612,
          606,
          614,
          604,
          588.2075195,
          582.3713989,
          599,
          612.5875244,
          607,
          610,
          607,
          608,
          590,
          609,
          607,
          605,
          603,
          595,
          608,
          603,
          607,
          597,
          596,
          605,
          618,
          617,
          615,
          596,
          603,
          622,
          595,
          608,
          598,
          594.8875732,
          591.555542,
          593.2857056,
          599.3735962,
          607.5609741,
          595.0166626,
          594.7115479,
          600.7174072,
          591.4943848,
          602.0090332,
          601.9851685,
          609.7199707,
          605.5053711,
          596.7339478,
          601.4318237,
          595.3840332,
          595.4866943,
          604.6164551,
          597.8204956,
          598.2432251,
          604.5438843,
          590.1119385,
          595.3125,
          602.2741089,
          596.7636108,
          603.7087402,
          588.5,
          599.515625,
          594.6393433,
          593.0843506,
          597.7857056,
          592.59375,
          595.3571167,
          593.4736938,
          593.4754028,
          594.4545288,
          587.765625,
          594.5320435,
          600.796875,
          597.5853882,
          598.6444702,
          591.2653198,
          602.0164185,
          603.6274414,
          609.0629883,
          592.2705688,
          600.8181763,
          600.479187,
          593.1328735,
          599.8608398,
          597.8106079,
          593.211792,
          602.4138184,
          600,
          603.2069092,
          589.3043213,
          null,
          584.8181763,
          596.166687,
          588.59375,
          599.4347534,
          585.0461426,
          598.2374878,
          590.4634399,
          589.8909302,
          608.1914673,
          593.3421021,
          599.7605591,
          586.7894897,
          584.4483032,
          599.0952148,
          594.2051392,
          586.0389404,
          599.4285889,
          604.9484253,
          591.7435913,
          613.7954712,
          594.9661255,
          594.6511841,
          601.2153931,
          597.7213135,
          598.0350952,
          597.6170044,
          597.7415771,
          598.8101196,
          591.2280884,
          589.6363525,
          591.166687,
          589.8095093,
          603.4561157,
          597.333313,
          600.6315918,
          593.3544312,
          593.0540771,
          596.5999756,
          598.25,
          601.7741699,
          588.444458,
          588.0908813,
          595.7879028,
          591.6229248,
          590.8088379,
          587.8536377,
          592.3240967,
          599.0576782,
          597.3361206,
          598.2926636,
          601.5848999,
          610,
          594.3970337,
          597.5859375,
          599.916687,
          601.9857178,
          594.8823242,
          588.5662842,
          595.666687,
          604.9285889,
          591.1276855,
          591.8222046,
          588.5,
          590.0595093,
          586.9729614,
          582.2058716,
          596.7142944,
          586.8453369,
          596.7419434,
          608.9130249,
          590.7352905,
          593.2432251,
          594.4456177,
          589.7794189,
          597.1466675,
          596.3008423,
          596.3953247,
          583.0779419,
          595.8235474,
          590.8095093,
          595,
          592.4121704,
          601.0223999,
          601.0223999,
          601.0223999,
          601.0223999,
          582.333313,
          608.5230713,
          594.4210815,
          594.2120972,
          596.2705688,
          589.3809814,
          584.2019043,
          590.0166626,
          591.4315796,
          590.8076782,
          593.9701538,
          595.4324341,
          598.036377,
          587.9275513,
          585.5476074,
          608.6938477,
          587.5522461,
          587.3364258,
          593.3934326,
          594.3733521,
          586.8834839,
          587.4215698,
          605.6964111,
          608.5957642,
          599.0717773,
          593.9189453,
          594.1958618,
          589.032959,
          596.8878784,
          604.4411621,
          596.5666504,
          598.2199707
         ],
         "yaxis": "y"
        },
        {
         "customdata": [
          [
           "P.S. 046 Arthur Tappan"
          ],
          [
           "Achievement First Apollo Charter School"
          ],
          [
           "Leadership Preparatory Ocean Hill Charter School"
          ],
          [
           "P.S. 125 Ralph Bunche"
          ],
          [
           "P.S. 327 Dr. Rose B. English"
          ],
          [
           "P.S. 125 Ralph Bunche"
          ],
          [
           "Success Academy Charter School - Bergen Beach - Ne"
          ],
          [
           "Bedford Stuyvesant New Beginnings Charter School"
          ],
          [
           "P.S. 125 Ralph Bunche"
          ],
          [
           "Imagine Me Leadership Charter School"
          ],
          [
           "Achievement First Linden Charter School"
          ],
          [
           "Central Brooklyn Ascend Charter School"
          ],
          [
           "Brooklyn Dreams Charter School"
          ],
          [
           "P.S. 133 Fred R Moore"
          ],
          [
           "P.S. 154 Harriet Tubman"
          ],
          [
           "P.S. 125 Ralph Bunche"
          ],
          [
           "P.S. 175 Henry H Garnet"
          ],
          [
           "P.S. 123 Mahalia Jackson"
          ],
          [
           "P.S. 129 John H. Finley"
          ],
          [
           "Riverdale Avenue Community School"
          ],
          [
           "Brooklyn Landmark Elementary School"
          ],
          [
           "Neighborhood Charter School of Harlem"
          ],
          [
           "P.S. 092 Mary McLeod Bethune"
          ],
          [
           "The Cultural Arts Academy at Spring Creek Charter"
          ],
          [
           "Christopher Avenue Community School"
          ],
          [
           "P.S. 034 John Harvard"
          ],
          [
           "P.S. 298 Dr. Betty Shabazz"
          ],
          [
           "P.S. 193 Gil Hodges"
          ],
          [
           "School of Science & Technology"
          ],
          [
           "School of Science & Technology"
          ],
          [
           "School of Science & Technology"
          ],
          [
           "School of Science & Technology"
          ],
          [
           "P.S. 194 Countee Cullen"
          ],
          [
           "Girls Preparatory Charter School of New York"
          ],
          [
           "P.S. 119 Amersfort"
          ],
          [
           "P.S. 194 Raoul Wallenberg"
          ],
          [
           "P.S. 109"
          ],
          [
           "P.S. 109"
          ],
          [
           "P.S. 109"
          ],
          [
           "P.S. 329 Surfside"
          ],
          [
           "P.S. 288 The Shirley Tanyhill"
          ],
          [
           "Harlem Village Academy East Charter School"
          ],
          [
           "P.S. 031 William T. Davis"
          ],
          [
           "Harlem Children's Zone Promise Academy II Charter"
          ],
          [
           "Success Academy Charter School - Harlem 1"
          ],
          [
           "P.S. 109"
          ],
          [
           "P.S. 198 Brooklyn"
          ],
          [
           "P.S. 203 Floyd Bennett School"
          ],
          [
           "Harlem Link Charter School"
          ],
          [
           "The Gregory Jocko Jackson School of Sports, Art, a"
          ],
          [
           "P.S. 184 Newport"
          ],
          [
           "P.S. 178 Saint Clair Mckelway"
          ],
          [
           "P.S. 165 Ida Posner"
          ],
          [
           "P.S. 156 Waverly"
          ],
          [
           "P.S./ I.S. 155 Nicholas Herkimer"
          ],
          [
           "P.S. 150 Christopher"
          ],
          [
           "P.S./I.S. 137 Rachel Jean Mitchell"
          ],
          [
           "P.S. 041 Francis White"
          ],
          [
           "P.S. 041 Francis White"
          ],
          [
           "P.S. 041 Francis White"
          ],
          [
           "P.S. 041 Francis White"
          ],
          [
           "P.S. K315"
          ],
          [
           "P.S. K315"
          ],
          [
           "P.S. K315"
          ],
          [
           "P.S. K315"
          ],
          [
           "P.S. 251 Paerdegat"
          ],
          [
           "P.S. 245"
          ],
          [
           "Harlem Children's Zone Promise Academy 1 Charter S"
          ],
          [
           "P.S./I.S. 323"
          ],
          [
           "Hyde Leadership Charter School- Brooklyn"
          ],
          [
           "Brooklyn Excelsior Charter School"
          ],
          [
           "Success Academy Charter School - Prospect Heights"
          ],
          [
           "P.S. 242 - The Young Diplomats Magnet Academy"
          ],
          [
           "P.S. 076 A. Philip Randolph"
          ],
          [
           "STEM Institute of Manhattan"
          ],
          [
           "P.S. 140 Edward K Ellington"
          ],
          [
           "P.S. 299 Thomas Warren Field"
          ],
          [
           "Success Academy Charter School - Bed-Stuy 2"
          ],
          [
           "PS 80  The Thurgood Marshall Magnet School of Mult"
          ],
          [
           "The Jermaine L. Green STEM Institute of Queens"
          ],
          [
           "P.S. 180 Hugo Newman"
          ],
          [
           "P.S. 048 William Wordsworth"
          ],
          [
           "P.S. 040 Samuel Huntington"
          ],
          [
           "Goldie Maple Academy"
          ],
          [
           "Achievement First Crown Heights Charter School"
          ],
          [
           "P.S. 197 The Ocean School"
          ],
          [
           "P.S. 183 Dr. Richard R. Green"
          ],
          [
           "KIPP AMP Charter School"
          ],
          [
           "Explore Exceed Charter School"
          ],
          [
           "P.S. 111 Jacob Blackwell"
          ],
          [
           "P.S. 015 Jackie Robinson"
          ],
          [
           "P.S. 78"
          ],
          [
           "Cynthia Jenkins School"
          ],
          [
           "P.S. 038 Rosedale"
          ],
          [
           "P.S. 052 Queens"
          ],
          [
           "P.S./I.S. 116 William C. Hughley"
          ],
          [
           "P.S. 118 Lorraine Hansberry"
          ],
          [
           "P.S. 132 Ralph Bunche"
          ],
          [
           "P.S. 134 Hollis"
          ],
          [
           "P.S. 057 Hubert H. Humphrey"
          ],
          [
           "P.S. 136 Roy Wilkins"
          ],
          [
           "P.S./M.S. 138 Sunrise"
          ],
          [
           "P.S./M.S. 147 Ronald McNair"
          ],
          [
           "P.S. 156 Laurelton"
          ],
          [
           "P.S. 181 Brookfield"
          ],
          [
           "P.S. 195 William Haberle"
          ],
          [
           "P.S./I.S. 208"
          ],
          [
           "P.S. 251 Queens"
          ],
          [
           "The Gordon Parks School"
          ],
          [
           "P.S. 018 John G. Whittier"
          ],
          [
           "Canarsie Ascend Charter School"
          ],
          [
           "Achievement First East New York Charter School"
          ],
          [
           "Success Academy Charter School - Harlem 2"
          ],
          [
           "Leadership Prep Canarsie Charter School (Leadershi"
          ],
          [
           "P.S. 036 Saint Albans School"
          ],
          [
           "New American Academy Charter School"
          ],
          [
           "Brownsville Ascend Charter School"
          ],
          [
           "Brooklyn Scholars Charter School"
          ],
          [
           "Success Academy Charter School - Crown Heights"
          ],
          [
           "Explore Empower Charter School"
          ],
          [
           "Excellence Girls Charter School"
          ],
          [
           "Coney Island Preparatory Public Charter School"
          ],
          [
           "Coney Island Preparatory Public Charter School"
          ],
          [
           "Coney Island Preparatory Public Charter School"
          ],
          [
           "Success Academy Charter School - Fort Greene"
          ],
          [
           "Success Academy Charter School - Prospect Heights"
          ],
          [
           "Success Academy Charter School - Prospect Heights"
          ],
          [
           "P.S. 201 The Discovery School for Inquiry and Rese"
          ],
          [
           "Success Academy Charter School - Prospect Heights"
          ],
          [
           "Coney Island Preparatory Public Charter School"
          ],
          [
           "Leadership Preparatory Brownsville Charter School"
          ],
          [
           "Explore Charter School"
          ],
          [
           "Community Partnership Charter School"
          ],
          [
           "Lighthouse Elementary School"
          ],
          [
           "P.S. 105 The Bay School"
          ],
          [
           "P.S. 104 The Bays Water"
          ],
          [
           "Explore Excel Charter School"
          ],
          [
           "EMBER Charter School for Mindful Education, Innova"
          ],
          [
           "Achievement First Endeavor Charter School"
          ],
          [
           "Leadership Prep Bedford Stuyvesant Uncommon Prep C"
          ],
          [
           "Excellence Boys Charter School"
          ],
          [
           "P.S. 149 Sojourner Truth"
          ],
          [
           "Achievement First Brownsville Charter School"
          ],
          [
           "P.S. 045 Clarence Witherspoon"
          ],
          [
           "P.S. 043"
          ],
          [
           "P.S./M.S 042 R. Vernam"
          ],
          [
           "La Cima Charter School"
          ],
          [
           "Brooklyn Ascend Charter School"
          ],
          [
           "Achievement First Aspire Charter School"
          ],
          [
           "Brooklyn Charter School"
          ],
          [
           "Success Academy Charter School - Bed-Stuy 1"
          ],
          [
           "Success Academy Charter School - Harlem 3"
          ],
          [
           "P.S. 188 Michael E. Berdy"
          ],
          [
           "Success Academy Charter School - Harlem 4"
          ],
          [
           "P.S. 092 Adrian Hegeman"
          ],
          [
           "P.S. 091 The Albany Avenue School"
          ],
          [
           "Dr. Jacqueline Peek-Davis School"
          ],
          [
           "Norma Adams Clemons Academy"
          ],
          [
           "Brooklyn Brownstone School"
          ],
          [
           "Brighter Choice Community School"
          ],
          [
           "P.S. 335 Granville T. Woods"
          ],
          [
           "P.S. 309 The George E. Wibecan Preparatory Academy"
          ],
          [
           "P.S. 308 Clara Cardwell"
          ],
          [
           "P.S. 262 El Hajj Malik El Shabazz Elementary Schoo"
          ],
          [
           "P.S. 243K- The Weeksville School"
          ],
          [
           "P.S. 081 Thaddeus Stevens"
          ],
          [
           "P.S. 040 George W. Carver"
          ],
          [
           "P.S. 197 John B. Russwurm"
          ],
          [
           "P.S. 026 Jesse Owens"
          ],
          [
           "P.S. 026 Jesse Owens"
          ],
          [
           "P.S. 026 Jesse Owens"
          ],
          [
           "P.S. 025 Eubie Blake School"
          ],
          [
           "P.S. 021 Crispus Attucks"
          ],
          [
           "P.S. 138 Brooklyn"
          ],
          [
           "P.S. 138 Brooklyn"
          ],
          [
           "P.S. 138 Brooklyn"
          ],
          [
           "P.S. 138 Brooklyn"
          ],
          [
           "P.S. 208 Elsa Ebeling"
          ],
          [
           "P.S. 135 Sheldon A. Brookner"
          ],
          [
           "P.S. 115 Daniel Mucatel School"
          ],
          [
           "P.S. 114 Ryder Elementary"
          ],
          [
           "P.S. 66"
          ],
          [
           "Brooklyn Arts and Science Elementary School"
          ],
          [
           "New Bridges Elementary"
          ],
          [
           "P.S. 399 Stanley Eugene Clark"
          ],
          [
           "P.S. 398 Walter Weaver"
          ],
          [
           "P.S. 005 Dr. Ronald McNair"
          ],
          [
           "Icahn Charter School 7"
          ],
          [
           "P.S. 375 Jackie Robinson School"
          ],
          [
           "P.S. 316 Elijah Stroud"
          ],
          [
           "P.S. 289 George V. Brower"
          ],
          [
           "P.S. 241 Emma L. Johnston"
          ],
          [
           "P.S. 221 Toussaint L'Ouverture"
          ],
          [
           "P.S. 191 Paul Robeson"
          ],
          [
           "P.S. 189 The Bilingual Center"
          ],
          [
           "P.S. 181 Brooklyn"
          ],
          [
           "P.S. 161 The Crown"
          ],
          [
           "M.S. K394"
          ],
          [
           "P.S. 219 Kennedy-King"
          ],
          [
           "Red Hook Neighborhood School"
          ],
          [
           "Icahn Charter School 3"
          ],
          [
           "P.S. 153 Helen Keller"
          ],
          [
           "P.S. 121 Throop"
          ],
          [
           "P.S. 121 Throop"
          ],
          [
           "P.S. 121 Throop"
          ],
          [
           "P.S. 121 Throop"
          ],
          [
           "P.S. 112 Bronxwood"
          ],
          [
           "P.S. 111 Seton Falls"
          ],
          [
           "Harriet Tubman Charter School"
          ],
          [
           "P.S. 103 Hector Fontanez"
          ],
          [
           "P.S. 093 Albert G. Oliver"
          ],
          [
           "P.S. 087 Bronx"
          ],
          [
           "P.S. 078 Anne Hutchinson"
          ],
          [
           "P.S. 076 The Bennington School"
          ],
          [
           "P.S. 068 Bronx"
          ],
          [
           "P.S. 041 Gun Hill Road"
          ],
          [
           "P.S. 021 Philip H. Sheridan"
          ],
          [
           "Icahn Charter School"
          ],
          [
           "P.S./M.S. 004 Crotona Park West"
          ],
          [
           "P.S. 055 Benjamin Franklin"
          ],
          [
           "P.S. 160 Walt Disney"
          ],
          [
           "Baychester Academy"
          ],
          [
           "P.S. 178 - Dr. Selman Waksman"
          ],
          [
           "Cornerstone Academy for Social Action"
          ],
          [
           "Success Academy Charter School - Bronx 4 - New Yor"
          ],
          [
           "Success Academy Charter School - Bronx 1"
          ],
          [
           "P.S. 059 William Floyd"
          ],
          [
           "P.S. 023 Carter G. Woodson"
          ],
          [
           "Success Academy Charter School - Bronx 2"
          ],
          [
           "Icahn Charter School 4"
          ],
          [
           "P.S. 307 Daniel Hale Williams"
          ],
          [
           "P.S. 287 Bailey K. Ashford"
          ],
          [
           "P.S. 282 Park Slope"
          ],
          [
           "Success Academy Charter School - Bronx 3"
          ],
          [
           "P.S. 270 Johann DeKalb"
          ],
          [
           "Icahn Charter School 5"
          ],
          [
           "P.S. 093 William H. Prescott"
          ],
          [
           "P.S. 067 Charles A. Dorsey"
          ],
          [
           "P.S. 056 Lewis H. Latimer"
          ],
          [
           "P.S. 054 Samuel C. Barnes"
          ],
          [
           "P.S. 046 Edward C. Blum"
          ],
          [
           "P.S. 044 Marcus Garvey"
          ],
          [
           "P.S. 020 Clinton Hill"
          ],
          [
           "P.S. 003 The Bedford Village"
          ],
          [
           "P.S. 256 Benjamin Banneker"
          ],
          [
           "P.S. 233 Langston Hughes"
          ],
          [
           "P.S. 026 Jesse Owens"
          ],
          [
           "P.S. 224 Hale A. Woodruff"
          ],
          [
           "P.S. 149 Danny Kaye"
          ],
          [
           "Merrick Academy - Queens Public Charter School"
          ],
          [
           "P.S. 158 Warwick"
          ],
          [
           "Thurgood Marshall Academy Lower School"
          ],
          [
           "P.S. 190 Sheffield"
          ],
          [
           "P.S. 202 Ernest S. Jenkyns"
          ],
          [
           "P.S. 213 New Lots"
          ],
          [
           "P.S. 273 Wortman"
          ],
          [
           "P.S. 306 Ethan Allen"
          ],
          [
           "Peninsula Preparatory Academy Charter School"
          ],
          [
           "The Fresh Creek School"
          ],
          [
           "Bronx Charter School for Excellence"
          ],
          [
           "P.S. 346 Abe Stark"
          ],
          [
           "Brooklyn Gardens Elementary School"
          ],
          [
           "East New York Elementary School of Excellence"
          ],
          [
           "Success Academy Charter School - Rosedale - New Yo"
          ],
          [
           "Riverton Street Charter School"
          ],
          [
           "Rochdale Early Advantage Charter School"
          ],
          [
           "Icahn Charter School 6"
          ],
          [
           "John W. Lavelle Preparatory Charter School"
          ],
          [
           "P.S. 328 Phyllis Wheatley"
          ],
          [
           "Future Leaders Institute Charter School"
          ],
          [
           "P.S. 200- The James McCune Smith School"
          ],
          [
           "Democracy Prep Harlem Charter School"
          ],
          [
           "Success Academy Charter School - Springfield Garde"
          ],
          [
           "Sisulu-Walker Charter School of Harlem"
          ],
          [
           "P.S. 244 Richard R. Green"
          ],
          [
           "New York French American Charter School"
          ],
          [
           "Challenge Preparatory Charter School"
          ],
          [
           "Success Academy Charter School - Harlem 5"
          ],
          [
           "P.S. 268 Emma Lazarus"
          ],
          [
           "Bronx Charter School for Better Learning"
          ],
          [
           "P.S. 235 Janice Marie Knight School"
          ],
          [
           "P.S. 272 Curtis Estabrook"
          ],
          [
           "Harbor Science and Arts Charter School"
          ],
          [
           "P.S. 276 Louis Marshall"
          ],
          [
           "Harlem Prep Charter School"
          ],
          [
           "P.S. 013 Roberto Clemente"
          ],
          [
           "P.S. 279 Herman Schreiber"
          ],
          [
           "Harlem Village Academy West Charter School"
          ]
         ],
         "hovertemplate": "Cluster=1<br>mean_score_math=%{x}<br>mean_score_ela=%{y}<br>school_name=%{customdata[0]}<extra></extra>",
         "legendgroup": "1",
         "marker": {
          "color": "#EF553B",
          "opacity": 0.5,
          "symbol": "circle"
         },
         "mode": "markers",
         "name": "1",
         "orientation": "v",
         "showlegend": true,
         "type": "scatter",
         "x": [
          583.833313,
          612,
          618,
          612.1904907,
          571.777771,
          612.1904907,
          629,
          604,
          612.1904907,
          612,
          610,
          596,
          596,
          580.1714478,
          583.75,
          612.1904907,
          592.2745361,
          591.958313,
          594.2750244,
          576.1785889,
          607.7073364,
          609,
          587.0425415,
          593,
          596.8928833,
          597.8163452,
          594.4815063,
          598.6196899,
          593.5048828,
          593.5048828,
          593.5048828,
          593.5048828,
          580,
          604,
          595.8764038,
          600.9746704,
          598.5,
          598.5,
          598.5,
          583.1044922,
          590.753418,
          603,
          582.704895,
          609,
          629,
          598.5,
          596.8181763,
          597.6804199,
          594,
          583.5,
          584.5818481,
          597.833313,
          601.4242554,
          590.7822876,
          585.333313,
          579.043457,
          595.1071167,
          582.2444458,
          582.2444458,
          582.2444458,
          582.2444458,
          590.3932495,
          590.3932495,
          590.3932495,
          590.3932495,
          592.6500244,
          595.3461304,
          612,
          589.442627,
          600,
          596,
          623,
          586.4091187,
          577.875,
          588.1071167,
          600.7026978,
          593.4545288,
          630,
          593.3953247,
          594.7944946,
          599.0444336,
          598.8461304,
          593.4534912,
          587.222229,
          607,
          599.3421021,
          589.4313965,
          605,
          598,
          575.2000122,
          593.4500122,
          580.9312744,
          590.8024902,
          600.5681763,
          587.0655518,
          584.0731812,
          589.1605225,
          607.0810547,
          583.9347534,
          589.6831665,
          587.9244995,
          586.4650879,
          586.711853,
          589.8857422,
          593.208313,
          583.8375244,
          606.819458,
          595.2884521,
          594.013916,
          592.3200073,
          611,
          611,
          625,
          612,
          591.859375,
          594,
          612,
          598,
          628,
          595,
          614,
          602,
          602,
          602,
          622,
          623,
          623,
          592.3582153,
          623,
          602,
          612,
          595,
          591,
          593.111084,
          585.3604736,
          596.2020264,
          609,
          590,
          616,
          614,
          616,
          583.9375,
          605,
          590.8204956,
          584.956543,
          592.295105,
          594,
          610,
          608,
          607,
          629,
          625,
          591.4042358,
          638,
          589.5066528,
          596.7907104,
          601.3214111,
          585.2166748,
          591.2800293,
          597.5806274,
          591.2702637,
          584.2380981,
          585.222229,
          601.2120972,
          588.8518677,
          585.1795044,
          605.7958984,
          585.3214111,
          598.5454712,
          598.5454712,
          598.5454712,
          604.2999878,
          610.7283936,
          607.0370483,
          607.0370483,
          607.0370483,
          607.0370483,
          592.2203369,
          594.8539429,
          594.6137695,
          597.6428833,
          609.6842041,
          580.0200195,
          590.5925903,
          584.5223999,
          592.2142944,
          592.2857056,
          607,
          589.9428711,
          611.5818481,
          594.8793335,
          600.3561401,
          601.3939209,
          630,
          603.166687,
          583.3766479,
          590.9344482,
          588.8235474,
          592.5593262,
          580.708313,
          617,
          607.4953003,
          591.0201416,
          591.0201416,
          591.0201416,
          591.0201416,
          586.0317383,
          589.0238037,
          606,
          586.8125,
          588.8292847,
          591.6260986,
          585.7720337,
          586.6728516,
          598.0535889,
          595.9685669,
          589.954895,
          604,
          590.6511841,
          591.5076904,
          588.7825928,
          611.0689697,
          589.5180664,
          593.0178833,
          629,
          629,
          588.8809814,
          585.4615479,
          632,
          621,
          590.0377197,
          584.9714355,
          600.9259033,
          626,
          581,
          614,
          590.8181763,
          590.7741699,
          588.6896362,
          586.0714111,
          596.25,
          590.6190186,
          607.6315918,
          587.7391357,
          604.388916,
          588.0270386,
          598.5454712,
          582.8027954,
          593.1160889,
          596,
          597.6818237,
          601.4359131,
          594.6551514,
          589.5593262,
          585.4883423,
          585.7000122,
          597.7872314,
          603,
          594.7142944,
          609,
          592.0999756,
          584.3421021,
          582.6236572,
          628,
          600,
          603,
          607,
          591,
          597.2045288,
          598,
          590.854187,
          614,
          627,
          621,
          598.3132324,
          604,
          605,
          622,
          593.8200073,
          611,
          604.0518799,
          585.8360596,
          600,
          589.3366089,
          600,
          596.2131348,
          591.3499756,
          621
         ],
         "xaxis": "x",
         "y": [
          586.4177246,
          604,
          614,
          612.6190186,
          582.6087036,
          612.6190186,
          618,
          606,
          612.6190186,
          619,
          606,
          597,
          602,
          587.53125,
          585.0238037,
          612.6190186,
          590.4898071,
          590.0213013,
          605.0487671,
          588.8214111,
          612.2683105,
          608,
          591.3673706,
          598,
          595.5357056,
          598.03125,
          597.5200195,
          601.1418457,
          597.177063,
          597.177063,
          597.177063,
          597.177063,
          585.78125,
          605,
          597.3908081,
          604.4805298,
          601.1080933,
          601.1080933,
          601.1080933,
          587.0294189,
          591.5974121,
          601,
          584,
          604,
          616,
          601.1080933,
          597.4912109,
          600.3838501,
          593,
          591.9387817,
          589.388916,
          594.3912964,
          600.5454712,
          590.4749756,
          597.25,
          581.6363525,
          594.1071167,
          580.3953247,
          580.3953247,
          580.3953247,
          580.3953247,
          599.1547852,
          599.1547852,
          599.1547852,
          599.1547852,
          592.6627808,
          605.9000244,
          609,
          591.4237061,
          596,
          598,
          613,
          588.5499878,
          584.75,
          596.4815063,
          605.2727051,
          596.2790527,
          614,
          597.8117676,
          596.513916,
          600.111084,
          598.0823364,
          596.9285889,
          593.6738892,
          611,
          596.5466919,
          588.4000244,
          607,
          593,
          576.6400146,
          593.5308838,
          586.1317749,
          593.0250244,
          600.4545288,
          598.0357056,
          586.1333618,
          598.2179565,
          608.3076782,
          592.7659302,
          590.5,
          598.1320801,
          591.9285889,
          593.4285889,
          596.0302734,
          607.0666504,
          592.7407227,
          608.1917725,
          601.1697998,
          602.12677,
          595.7894897,
          611,
          612,
          613,
          613,
          597,
          601,
          606,
          600,
          617,
          600,
          616,
          604,
          604,
          604,
          611,
          613,
          613,
          594.2120972,
          613,
          604,
          607,
          594,
          594,
          587.5184937,
          588.4650879,
          592.2424316,
          606,
          602,
          611,
          610,
          610,
          584.75,
          607,
          594.1538696,
          587.0683594,
          590.0158691,
          592,
          608,
          605,
          604,
          617,
          615,
          594.8510742,
          619,
          587.527771,
          603.6428833,
          603.8275757,
          584.0924072,
          604.7999878,
          601.1290283,
          593.583313,
          585.3809814,
          585.944458,
          605.25,
          592.9629517,
          594.2683105,
          613.8200073,
          584.25,
          598.8571167,
          598.8571167,
          598.8571167,
          601.5454712,
          612.5975342,
          611.6851807,
          611.6851807,
          611.6851807,
          611.6851807,
          593.4827881,
          598.1363525,
          598.4888916,
          605.8852539,
          601.7012939,
          590.7600098,
          596.6153564,
          593.6323242,
          594.3809814,
          608.8181763,
          605,
          593.5072632,
          612.4464111,
          605.5999756,
          602.3150635,
          600.9117432,
          617.375,
          606.2526245,
          590.944458,
          593.1967163,
          593.7941284,
          597.2036743,
          582.833313,
          612,
          608.7155762,
          594.1140747,
          594.1140747,
          594.1140747,
          594.1140747,
          588.0491943,
          592.397583,
          608,
          592.0253296,
          591.3658447,
          591.7179565,
          588.7014771,
          589.9177246,
          598.7796631,
          596.612915,
          592.7045288,
          602,
          586.1860352,
          594.8571167,
          592.6304321,
          616.3859863,
          591.0482178,
          599.4909058,
          615,
          619,
          589.1190186,
          590.1599731,
          619,
          617,
          593.666687,
          585.0882568,
          612.4815063,
          615,
          588.4000244,
          610,
          593.9714355,
          593.9375,
          596.4642944,
          584.6071167,
          589.2750244,
          596.0952148,
          604.1842041,
          590.333313,
          608.5,
          596.8903809,
          598.8571167,
          587.7714233,
          590.3717041,
          597,
          596.7999878,
          604.2820435,
          597.3571167,
          589.1228027,
          585.6744385,
          590.6938477,
          596.7958984,
          607,
          601.8928833,
          608,
          592.7021484,
          587.861084,
          588.5056152,
          619,
          601,
          607,
          599,
          591,
          593.8863525,
          595,
          597.7659302,
          612,
          616,
          612,
          601.9277344,
          603,
          603,
          614,
          600.836731,
          608,
          608.8148193,
          589.9333496,
          605,
          591.9091187,
          599,
          593.3934326,
          596.9672241,
          610
         ],
         "yaxis": "y"
        },
        {
         "customdata": [
          [
           "P.S. 209 Margaret Mead"
          ],
          [
           "The Barbara Esselborn School"
          ],
          [
           "P.S. 070"
          ],
          [
           "P.S. 070"
          ],
          [
           "P.S. 055 Henry M. Boehm"
          ],
          [
           "P.S. 054 Charles W. Leng"
          ],
          [
           "P.S. 052 John C. Thompson"
          ],
          [
           "The Academy of Talented Scholars"
          ],
          [
           "P.S. 199 Frederick Wachtel"
          ],
          [
           "P.S. 050 Frank Hankinson"
          ],
          [
           "P.S. 083 Donald Hertz"
          ],
          [
           "P.S. 002 Alfred Zimberg"
          ],
          [
           "P.S. 099 Kew Gardens"
          ],
          [
           "P.S. 215 Morris H. Weiss"
          ],
          [
           "Public School 9 The Sarah Smith Garnet School"
          ],
          [
           "Success Academy Charter School - Upper West"
          ],
          [
           "P.S. 069 Daniel D. Tompkins"
          ],
          [
           "P.S. 175 City Island"
          ],
          [
           "P.S. 052 Sheepshead Bay"
          ],
          [
           "P.S. 060 Alice Austen"
          ],
          [
           "P.S. 56 The Louis Desario School"
          ],
          [
           "P.S. 264 Bay Ridge Elementary School For The Arts"
          ],
          [
           "P.S. 238 Anne Sullivan"
          ],
          [
           "P.S. 226 Alfred De B. Mason"
          ],
          [
           "P.S. K225 - The Eileen E. Zaglin"
          ],
          [
           "P.S. 070"
          ],
          [
           "P.S. 216 Arturo Toscanini"
          ],
          [
           "P.S. 108 Philip J. Abinanti"
          ],
          [
           "Space Shuttle Columbia School"
          ],
          [
           "P.S. 070"
          ],
          [
           "P.S. 150 Queens"
          ],
          [
           "P.S. 048 William G. Wilcox"
          ],
          [
           "P.S. 001 Tottenville"
          ],
          [
           "P.S. 003 The Margaret Gioiosa School"
          ],
          [
           "P.S. 004 Maurice Wollin"
          ],
          [
           "P.S. 005 Huguenot"
          ],
          [
           "P.S. 6 Corporal Allan F. Kivlehan School"
          ],
          [
           "P.S. 8 Shirlee Solomon"
          ],
          [
           "Naples Street Elementary School"
          ],
          [
           "P.S. 11 Thomas Dongan School"
          ],
          [
           "Brooklyn School of Inquiry"
          ],
          [
           "P.S. 013 M. L. Lindemeyer"
          ],
          [
           "P.S. 100 The Coney Island School"
          ],
          [
           "P.S. 163 Alfred E. Smith"
          ],
          [
           "P.S. 081 Robert J. Christen"
          ],
          [
           "P.S. 024 Spuyten Duyvil"
          ],
          [
           "P.S. 023 Richmondtown"
          ],
          [
           "P.S. 026 The Carteret School"
          ],
          [
           "P.S. 029 Bardwell"
          ],
          [
           "P.S. 030 Westerleigh"
          ],
          [
           "P.S. 35 The Clove Valley School"
          ],
          [
           "P.S. 177 The Marlboro"
          ],
          [
           "P.S. 036 J. C. Drumgoole"
          ],
          [
           "P.S. 234"
          ],
          [
           "P.S. 084 Steinway"
          ],
          [
           "P.S. 085 Judge Charles Vallone"
          ],
          [
           "P.S. 046 Albert V. Maniscalco"
          ],
          [
           "P.S. 153 Homecrest"
          ],
          [
           "P.S. 045 John Tyler"
          ],
          [
           "P.S. 122 Mamie Fay"
          ],
          [
           "P.S. 452"
          ],
          [
           "P.S. 042 Eltingville"
          ],
          [
           "P.S. 019 Judith K. Weiss"
          ],
          [
           "The Stephanie A. Vierno School"
          ],
          [
           "P.S. 128 Bensonhurst"
          ],
          [
           "P.S. 39 Francis J. Murphy Jr."
          ],
          [
           "P.S. 166 Henry Gradstein"
          ],
          [
           "P.S. 121 Nelson A. Rockefeller"
          ],
          [
           "P.S. 038 George Cromwell"
          ],
          [
           "P.S. 234"
          ],
          [
           "P.S. 234"
          ],
          [
           "P.S. 234"
          ],
          [
           "P.S. 200 Benson School"
          ],
          [
           "P.S. 220 Edward Mandel"
          ],
          [
           "P.S. 032 The Gifford School"
          ],
          [
           "P.S. 206 The Horace Harding School"
          ],
          [
           "P.S. 006 Lillie D. Blake"
          ],
          [
           "Our World Neighborhood Charter School"
          ],
          [
           "P.S. 102 The Bayview"
          ],
          [
           "P.S./I.S. 104 The Fort Hamilton School"
          ],
          [
           "P.S. 312 Bergen Beach"
          ],
          [
           "P.S. 047 Chris Galas"
          ],
          [
           "P.S./I.S. 30 Mary White Ovington"
          ],
          [
           "P.S. 277 Gerritsen Beach"
          ],
          [
           "P.S. 254 Dag Hammarskjold"
          ],
          [
           "P.S./I.S. 217 Roosevelt Island"
          ],
          [
           "P.S. 295"
          ],
          [
           "Neighborhood School"
          ],
          [
           "P.S. 206 The Horace Harding School"
          ],
          [
           "P.S. 130 The Parkside"
          ],
          [
           "P.S. 255 Barbara Reing School"
          ],
          [
           "P.S./ IS 178 Holliswood"
          ],
          [
           "P.S. 098 The Douglaston School"
          ],
          [
           "P.S. 003 Charrette School"
          ],
          [
           "P.S./I.S. 113 Anthony J. Pranzo"
          ],
          [
           "P.S. 128 The Lorraine Tuzzo, Juniper Valley Elemen"
          ],
          [
           "Success Academy Charter School - Union Square"
          ],
          [
           "P.S. 091 Richard Arkwright"
          ],
          [
           "P.S. 198 Isador E. Ida Straus"
          ],
          [
           "P.S. 088 Seneca"
          ],
          [
           "P.S./I.S. 087 Middle Village"
          ],
          [
           "Success Academy Charter School - Bensonhurst - New"
          ],
          [
           "Harlem Hebrew Language Charter School"
          ],
          [
           "P.S. 164 Queens Valley"
          ],
          [
           "P.S. 049 Dorothy Bonawit Kole"
          ],
          [
           "P.S. 169 Bay Terrace"
          ],
          [
           "P.S. 193 Alfred J. Kennedy"
          ],
          [
           "A.C.E. Academy for Scholars at the Geraldine Ferra"
          ],
          [
           "Hebrew Language Academy Charter School"
          ],
          [
           "P.S. 107 John W. Kimball"
          ],
          [
           "P.S. 183 Robert L. Stevenson"
          ],
          [
           "P.S. 039 Henry Bristow"
          ],
          [
           "P.S. 032 Samuel Mills Sprole"
          ],
          [
           "P.S. 197 - The Kings Highway Academy"
          ],
          [
           "P.S. 195 Manhattan Beach"
          ],
          [
           "Success Academy Charter School - Cobble Hill"
          ],
          [
           "P.S. 051 Elias Howe"
          ],
          [
           "East Side Elementary School, PS 267"
          ],
          [
           "The River School"
          ],
          [
           "P.S. 139 Rego Park"
          ],
          [
           "P.S. 185 Walter Kassenbrock"
          ],
          [
           "Staten Island School of Civic Leadership"
          ],
          [
           "P.S. 174 William Sidney Mount"
          ],
          [
           "P.S. 175 The Lynn Gross Discovery School"
          ],
          [
           "P.S. 192 - The Magnet School for Math and Science"
          ],
          [
           "The Michael J. Petrides School"
          ],
          [
           "P.S. 206 The Horace Harding School"
          ],
          [
           "P.S. 206 The Horace Harding School"
          ],
          [
           "P.S. 153 Maspeth Elem"
          ],
          [
           "P.S. 110 Florence Nightingale"
          ],
          [
           "Growing Up Green Charter School"
          ],
          [
           "Waterside Children's Studio School"
          ],
          [
           "P.S. 236 Mill Basin"
          ],
          [
           "P.S./M.S. 114 Belle Harbor"
          ],
          [
           "Hellenic Classical Charter School"
          ],
          [
           "Brooklyn Arbor Elementary School"
          ],
          [
           "P.S. 146 Howard Beach"
          ],
          [
           "P.S./I.S. 187 Hudson Cliffs"
          ],
          [
           "P.S. 132 The Conselyea School"
          ],
          [
           "P.S. 207 Elizabeth G. Leary"
          ],
          [
           "P.S. 110 The Monitor"
          ],
          [
           "P.S. 084 Jose De Diego"
          ],
          [
           "P.S. 232 Lindenwood"
          ],
          [
           "P.S. 222 Katherine R. Snyder"
          ],
          [
           "P.S. 034 Oliver H. Perry"
          ],
          [
           "P.S. 031 Samuel F. Dupont"
          ],
          [
           "P.S. 163 Bath Beach"
          ],
          [
           "P.S. 207 Rockwood Park"
          ],
          [
           "P.S./I.S. 119 The Glendale"
          ]
         ],
         "hovertemplate": "Cluster=2<br>mean_score_math=%{x}<br>mean_score_ela=%{y}<br>school_name=%{customdata[0]}<extra></extra>",
         "legendgroup": "2",
         "marker": {
          "color": "#00cc96",
          "opacity": 0.5,
          "symbol": "circle"
         },
         "mode": "markers",
         "name": "2",
         "orientation": "v",
         "showlegend": true,
         "type": "scatter",
         "x": [
          605.0298462,
          611.9105835,
          603.8615112,
          603.8615112,
          601.8110962,
          609.4477539,
          604.0666504,
          603.1956787,
          602,
          619.1615601,
          596.456543,
          613.7288208,
          616.2016602,
          608.8461304,
          598.3695679,
          634,
          603.4508667,
          598.7036743,
          596.7258301,
          593.4712524,
          602.5853882,
          603.527771,
          598.9807739,
          601.8571167,
          594.25,
          603.8615112,
          604.7766724,
          609.7000122,
          600.25,
          603.8615112,
          610.5496826,
          608.5454712,
          605.1831055,
          618.3400269,
          604.6310425,
          622.3823242,
          603.6542969,
          616.9509888,
          607.7825928,
          598.604187,
          619.6271362,
          597.7985229,
          607.3650513,
          610.2999878,
          608.2209473,
          612.1984863,
          605.7126465,
          610.6486206,
          600.1221924,
          610.9031982,
          617.6538696,
          601.3624878,
          601.4736938,
          606.1481323,
          602.3783569,
          606.8161011,
          595.5869751,
          595.2647095,
          595.5372925,
          606.4345093,
          622.043457,
          606.43573,
          605.6190186,
          602.5454712,
          600,
          592.1363525,
          609.4300537,
          608.6756592,
          600.6271362,
          606.1481323,
          606.1481323,
          606.1481323,
          603.9145508,
          601.6079712,
          606.2761841,
          592.8539429,
          620.663269,
          606,
          606.3212891,
          614.2149658,
          607.8666382,
          612.5,
          601.3431396,
          607.4697266,
          614.1694946,
          609.6391602,
          611.2542114,
          598.8571167,
          592.8539429,
          602.604187,
          606.0965576,
          601.2758789,
          616.1764526,
          610.4381104,
          606.3478394,
          614.3275757,
          628,
          595.333313,
          620.5593262,
          599,
          604.611084,
          627,
          600,
          599.65625,
          608.3781738,
          612.3529663,
          617.2727051,
          615.3684082,
          605,
          616.1304321,
          617.8903809,
          619.5254517,
          614.392395,
          604.1881104,
          614.347229,
          630,
          598.2631836,
          611.9244995,
          608.5666504,
          607.2734985,
          611.3563232,
          601.6213379,
          609.2815552,
          605.1968384,
          605.0908813,
          602.8969116,
          592.8539429,
          592.8539429,
          608.2166748,
          613.7719116,
          608,
          600.9041138,
          610.5384521,
          612.6428833,
          615,
          596.3936157,
          606.1097412,
          610.4788818,
          605.3270874,
          610.7913208,
          601.8666382,
          602.7653198,
          601.0280151,
          616.439209,
          613.0350952,
          612.9538574,
          606.0861816,
          606.6087036,
          616.2280884
         ],
         "xaxis": "x",
         "y": [
          602.9384766,
          613.8861694,
          606.4545288,
          606.4545288,
          609.3483276,
          607.0305176,
          608.4594727,
          613.7872314,
          602.0999756,
          620.8384399,
          595.8397827,
          614.3361816,
          611.6068115,
          609.9140625,
          609.760437,
          622,
          606.6184692,
          606.791687,
          599.6833496,
          601.7572021,
          604.0120239,
          610.5571289,
          596.979187,
          607.4242554,
          594.3636475,
          606.4545288,
          606.3939209,
          608.7042236,
          605.9067993,
          606.4545288,
          613.1862183,
          613.0900269,
          612.6196899,
          612.6133423,
          609.0679321,
          619.7647095,
          613.555542,
          616.0098877,
          617.4130249,
          600.5531616,
          619.1864624,
          599.5227051,
          611.9206543,
          607.3265381,
          613.1851807,
          615.3255615,
          610.7126465,
          613.472229,
          610.3977051,
          610.2539673,
          622.9615479,
          604.5526123,
          608.0258789,
          610.833313,
          613.4324341,
          613.6322021,
          598.2272949,
          601.446167,
          601.1439209,
          612.3048706,
          628.2391357,
          607.9492798,
          603.9655151,
          607.3435059,
          598.7999878,
          597.6551514,
          613.8272095,
          607.3947144,
          600.6833496,
          610.833313,
          610.833313,
          610.833313,
          601.7800903,
          602.5583496,
          611.5865479,
          592.5975342,
          620.9278564,
          604,
          607.9266357,
          609.7196045,
          612.4500122,
          615.6538696,
          600.0100708,
          612.4242554,
          607.6578979,
          617.7126465,
          610.5516968,
          608.7142944,
          592.5975342,
          603.1276855,
          607.8214111,
          602.1929932,
          612.6470337,
          613.6699219,
          605.065918,
          616.0263062,
          617,
          598.927063,
          621.3275757,
          595.7225952,
          607.7755127,
          614,
          600,
          600.9523926,
          612.0083618,
          609.3181763,
          610.5681763,
          610.3421021,
          597,
          619.9890137,
          622.4647827,
          624.5,
          618.4556885,
          600.9489746,
          613.930542,
          621,
          603,
          617.1730957,
          615.1599731,
          599.9043579,
          611.2183838,
          607.7211304,
          610.5999756,
          603.2960205,
          606.345459,
          609.5714111,
          592.5975342,
          592.5975342,
          607.8100586,
          614.0350952,
          604,
          602.027771,
          613.4736938,
          613.8309937,
          612,
          603.7252808,
          605.9752808,
          612.291687,
          604.8037109,
          608.2241211,
          609.6444702,
          606.555542,
          608.2095337,
          614.1700439,
          607.6964111,
          608.65625,
          598.8620605,
          605.3823242,
          617.4824829
         ],
         "yaxis": "y"
        },
        {
         "customdata": [
          [
           "P.S. 130 Hernando De Soto"
          ],
          [
           "P.S. 184m Shuang Wen"
          ],
          [
           "P.S. 002 Meyer London"
          ],
          [
           "P.S. 124 Yung Wing"
          ],
          [
           "P.S. 042 Benjamin Altman"
          ],
          [
           "P.S. 001 Alfred E. Smith"
          ],
          [
           "P.S. 126 Jacob August Riis"
          ],
          [
           "P.S. 020 John Bowne"
          ],
          [
           "P.S. 024 Andrew Jackson"
          ],
          [
           "P.S. 253"
          ],
          [
           "P.S. K134"
          ],
          [
           "P.S. 206 Joseph F Lamb"
          ],
          [
           "P.S. 217 Colonel David Marcus School"
          ],
          [
           "P.S. 012 James B. Colgate"
          ],
          [
           "P.S. 58 - The School of Heroes"
          ],
          [
           "P.S. 102 Bayview"
          ],
          [
           "P.S. 229 Emanuel Kaplan"
          ],
          [
           "P.S. 021 Edward Hart"
          ],
          [
           "P.S. 022 Thomas Jefferson"
          ],
          [
           "P.S. 024 Andrew Jackson"
          ],
          [
           "P.S. 024 Andrew Jackson"
          ],
          [
           "P.S. 024 Andrew Jackson"
          ],
          [
           "P.S. 032 State Street"
          ],
          [
           "P.S. 079 Francis Lewis"
          ],
          [
           "P.S. 107 Thomas A Dooley"
          ],
          [
           "P.S. 120 Queens"
          ],
          [
           "P.S. 041 Crocheron"
          ],
          [
           "P.S. 031 Bayside"
          ],
          [
           "P.S. 026 Rufus King"
          ],
          [
           "P.S. 018 Winchester"
          ],
          [
           "The Queens College School for Math, Science and Te"
          ],
          [
           "P.S. 219 Paul Klapper"
          ],
          [
           "P.S. 212 Lady Deborah Moody"
          ],
          [
           "P.S. 214 Cadwallader Colden"
          ],
          [
           "P.S. 184 Flushing Manor"
          ],
          [
           "P.S. 165 Edith K. Bergtraum"
          ],
          [
           "P.S. 163 Flushing Heights"
          ],
          [
           "P.S. 154 Queens"
          ],
          [
           "P.S. 130"
          ],
          [
           "P.S. 129 Patricia Larkin"
          ],
          [
           "P.S. 209 Clearview Gardens"
          ],
          [
           "P.S. 101 The Verrazano"
          ],
          [
           "P.S. 099 Isaac Asimov"
          ],
          [
           "P.S. 97 The Highlawn"
          ],
          [
           "P.S. 112 Lefferts Park"
          ],
          [
           "P.S. 105 The Blythebourne"
          ],
          [
           "P.S. 69 Vincent D. Grippo School"
          ],
          [
           "P.S. 69 Vincent D. Grippo School"
          ],
          [
           "P.S. 69 Vincent D. Grippo School"
          ],
          [
           "P.S. 69 Vincent D. Grippo School"
          ],
          [
           "P.S. 127 Mckinley Park"
          ],
          [
           "P.S. 048 Mapleton"
          ],
          [
           "P.S. 159 Isaac Pitkin"
          ],
          [
           "P.S. 230 Doris L. Cohen"
          ],
          [
           "P.S. 169 Sunset Park"
          ],
          [
           "P.S. 094 The Henry Longfellow"
          ],
          [
           "P.S./M.S. 194"
          ],
          [
           "P.S. 106 Parkchester"
          ],
          [
           "P.S. 214 Michael Friedsam"
          ],
          [
           "P.S. 046 Alley Pond"
          ],
          [
           "P.S. 160 William T. Sampson"
          ],
          [
           "Ralph A. Fabrizio School"
          ],
          [
           "P.S. 095 The Gravesend"
          ],
          [
           "School of Math, Science, and Healthy Living"
          ],
          [
           "The School For Future Leaders"
          ],
          [
           "P.S. 247 Brooklyn"
          ],
          [
           "P.S. 229 Dyker"
          ],
          [
           "P.S. 205 Clarion"
          ],
          [
           "P.S. 164 Caesar Rodney"
          ],
          [
           "P.S. 204 Vince Lombardi"
          ],
          [
           "The SEEALL Academy"
          ],
          [
           "P.S. 179 Kensington"
          ],
          [
           "P.S. 176 Ovington"
          ],
          [
           "Ralph A. Fabrizio School"
          ],
          [
           "Ralph A. Fabrizio School"
          ],
          [
           "Ralph A. Fabrizio School"
          ],
          [
           "P.S. 186 Dr. Irving A Gladstone"
          ],
          [
           "P.S. 094 David D. Porter"
          ],
          [
           "P.S. 748 Brooklyn School for Global Scholars"
          ],
          [
           "P.S. 133 Queens"
          ],
          [
           "P.S. 069 Jackson Heights"
          ],
          [
           "P.S. 112 Dutch Kills"
          ],
          [
           "Tag Young Scholars"
          ],
          [
           "P.S. 124 Osmond A Church"
          ],
          [
           "P.S. 011 Kathryn Phelan"
          ],
          [
           "P.S. 108 Captain Vincent G. Fowler"
          ],
          [
           "The James J. Ambrose School"
          ],
          [
           "P.S./I.S. 295"
          ],
          [
           "P.S. Q086"
          ],
          [
           "P.S. 033 Edward M. Funk"
          ],
          [
           "P.S. 064 Joseph P. Addabbo"
          ],
          [
           "P.S. 131 Abigail Adams"
          ],
          [
           "P.S. 152 Gwendoline N. Alleyne School"
          ],
          [
           "P.S. 063 Old South"
          ],
          [
           "P.S. 191 Mayflower"
          ],
          [
           "P.S. 159"
          ],
          [
           "P.S. 162 John Golden"
          ],
          [
           "P.S. 173 Fresh Meadows"
          ],
          [
           "P.S. 186 Castlewood"
          ],
          [
           "P.S. 188 Kingsbury"
          ],
          [
           "P.S. 056 Harry Eichler"
          ],
          [
           "P.S. 095 Eastwood"
          ],
          [
           "P.S. 203 Oakland Gardens"
          ],
          [
           "P.S. 205 Alexander Graham Bell"
          ],
          [
           "P.S. 213 The Carl Ullman School"
          ],
          [
           "P.S. 221 The North Hills School"
          ],
          [
           "P.S. 117 J. Keld / Briarwood School"
          ],
          [
           "P.S./I.S. 266"
          ]
         ],
         "hovertemplate": "Cluster=3<br>mean_score_math=%{x}<br>mean_score_ela=%{y}<br>school_name=%{customdata[0]}<extra></extra>",
         "legendgroup": "3",
         "marker": {
          "color": "#ab63fa",
          "opacity": 0.5,
          "symbol": "circle"
         },
         "mode": "markers",
         "name": "3",
         "orientation": "v",
         "showlegend": true,
         "type": "scatter",
         "x": [
          624.6488037,
          611.0806274,
          611.3826904,
          617.1182861,
          612.1771851,
          603.3018799,
          605.9365234,
          609.5894775,
          610.0858765,
          616.6911621,
          616.7999878,
          606.666687,
          601.1040649,
          610.4946289,
          604.5955811,
          613.2402344,
          606.8636475,
          609.34375,
          616.6796875,
          610.0858765,
          610.0858765,
          610.0858765,
          611.7014771,
          612.9408569,
          609.0878296,
          603.6242676,
          619.652771,
          608.4109497,
          612.6226196,
          615.2802734,
          615.3599854,
          608.1034546,
          599.6356201,
          610.0701904,
          612.4230957,
          611.93396,
          610.7844849,
          603.1192627,
          615.055542,
          610.7150879,
          611.7948608,
          615.25,
          605.4299927,
          610,
          607.8620605,
          619.0042114,
          616.1925659,
          616.1925659,
          616.1925659,
          616.1925659,
          609.7142944,
          605.5505371,
          596.3307495,
          603.3461304,
          600.8968506,
          602.3925171,
          593.0247192,
          596.3269043,
          594.0960083,
          619.3571167,
          610.6572876,
          608.5576782,
          605,
          600.6721191,
          623.6973877,
          614.5820923,
          619.7451172,
          612.3687134,
          611.0674438,
          615.7357788,
          601.8587036,
          598.046875,
          615.3529663,
          608.5576782,
          608.5576782,
          608.5576782,
          608.375,
          615.875,
          624.0736694,
          608.5625,
          603.9470825,
          601.3491821,
          632.609375,
          598.434082,
          601.4088135,
          605.0222778,
          618.0357056,
          603.666687,
          598.7527466,
          598.6824341,
          600.2385254,
          609.8851318,
          603.6931763,
          603.305542,
          612.0847168,
          619.7264404,
          611.0175171,
          613.7866821,
          607.0169678,
          629.871582,
          599.3483276,
          602.2451172,
          624.340271,
          614.8444214,
          612.6792603,
          613.5,
          599.5827637,
          602.2608643
         ],
         "xaxis": "x",
         "y": [
          623.8154907,
          610.9508057,
          610.4755859,
          617.6444702,
          608.4050903,
          607.5882568,
          603.9682617,
          603.2166748,
          608.7672119,
          613.4740601,
          612.5341187,
          609.821228,
          603.053894,
          604.8296509,
          607.4014893,
          614.1073608,
          606.0327148,
          607.0089111,
          615.833313,
          608.7672119,
          608.7672119,
          608.7672119,
          613.6923218,
          614.7692261,
          612.1655273,
          600.3076782,
          621.0410767,
          603.3424683,
          611.9047852,
          615.7175293,
          610.960022,
          602.4642944,
          598.9008179,
          607.711731,
          613.7922363,
          609.1981201,
          608.4454346,
          605.6729126,
          613.654541,
          607.4730835,
          610.2785034,
          618.1733398,
          603.2346802,
          605.0375977,
          607.9650879,
          607.5825806,
          608.5820923,
          608.5820923,
          608.5820923,
          608.5820923,
          605.9710083,
          604.0795288,
          596.8640137,
          604.9269409,
          596.7243042,
          598.598999,
          594.9806519,
          598.4771118,
          593.367981,
          613.2098999,
          604.2598267,
          603.0130005,
          606.8620605,
          602.2786865,
          616.402771,
          612.7822876,
          609.2333374,
          609.913269,
          607.25,
          613.3776855,
          600.098877,
          594.0241699,
          612.5785522,
          603.0130005,
          603.0130005,
          603.0130005,
          608.8068848,
          619.8292847,
          616.447937,
          609.7619019,
          606.3742065,
          600,
          636.546875,
          600.5,
          602.3725586,
          605.3740234,
          618.0184937,
          608.6578979,
          601.5166626,
          603.5578003,
          607.5471802,
          612.1213989,
          605.7167358,
          602.4782715,
          613.4745483,
          612.1568604,
          607.694458,
          612.697998,
          612.2033691,
          624.3853149,
          604.7907104,
          605.302002,
          621.0845337,
          618.1363525,
          610.6414795,
          611.7011719,
          601.8707275,
          603.6286011
         ],
         "yaxis": "y"
        },
        {
         "customdata": [
          [
           "Special Music School"
          ],
          [
           "P.S. 770 New American Academy"
          ],
          [
           "Teachers College Community School"
          ],
          [
           "P.S. 040 Augustus Saint-Gaudens"
          ],
          [
           "P.S. 011 William T. Harris"
          ],
          [
           "P.S. 033 Chelsea Prep"
          ],
          [
           "P.S. 040 Augustus Saint-Gaudens"
          ],
          [
           "P.S. 040 Augustus Saint-Gaudens"
          ],
          [
           "The Harbor View School"
          ],
          [
           "P.S./I.S. 78Q"
          ],
          [
           "New Explorations into Science, Technology and Math"
          ],
          [
           "The Brooklyn New School, P.S. 146"
          ],
          [
           "P.S. 321 William Penn"
          ],
          [
           "P.S. 199 Jessie Isador Straus"
          ],
          [
           "P.S. 008 Robert Fulton"
          ],
          [
           "P.S. 011 Purvis J. Behan"
          ],
          [
           "P.S. 133 William A. Butler"
          ],
          [
           "Academy of Arts and Letters"
          ],
          [
           "Muscota"
          ],
          [
           "Magnet School of Math, Science and Design Technolo"
          ],
          [
           "P.S. 015 Patrick F. Daly"
          ],
          [
           "P.S. 029 John M. Harrigan"
          ],
          [
           "P.S. 038 The Pacific"
          ],
          [
           "P.S. 058 The Carroll"
          ],
          [
           "P.S. 333 Manhattan School for Children"
          ],
          [
           "The Maurice Sendak Community School"
          ],
          [
           "The Windsor Terrace School"
          ],
          [
           "The Anderson School"
          ],
          [
           "P.S. 087 William Sherman"
          ],
          [
           "The East Village Community School"
          ],
          [
           "The Children's Workshop School"
          ],
          [
           "P.S. 261 Philip Livingston"
          ],
          [
           "Earth School"
          ],
          [
           "P.S. 040 Augustus Saint-Gaudens"
          ],
          [
           "P.S. 059 Beekman Hill International"
          ],
          [
           "P.S. 65 The Academy of Innovative Learning"
          ],
          [
           "P.S. 101 School in the Gardens"
          ],
          [
           "P.S. 041 Greenwich Village"
          ],
          [
           "P.S. 116 Mary Lindley Murray"
          ],
          [
           "Ella Baker School"
          ],
          [
           "Central Park East II"
          ],
          [
           "Central Park East I"
          ],
          [
           "Battery Park City School"
          ],
          [
           "P.S. 150"
          ],
          [
           "P.S. 158 Bayard Taylor"
          ],
          [
           "Brooklyn Prospect Charter School Downtown"
          ],
          [
           "Compass Charter School"
          ],
          [
           "P.S. 166 The Richard Rodgers School of The Arts an"
          ],
          [
           "Community Roots Charter School"
          ],
          [
           "P.S. 212 Midtown West"
          ],
          [
           "Yorkville Community School"
          ],
          [
           "P.S. 89"
          ],
          [
           "P.S. 234 Independence School"
          ],
          [
           "The Peck Slip School"
          ],
          [
           "P.S. 084 Lillian Weber"
          ],
          [
           "P.S. 196 Grand Central Parkway"
          ],
          [
           "P.S. 290 Manhattan New School"
          ],
          [
           "P.S. 144 Col Jeromus Remsen"
          ],
          [
           "P.S. 009 Sarah Anderson"
          ],
          [
           "P.S. 77 Lower Lab School"
          ],
          [
           "The 30th Avenue School (G&T Citywide)"
          ],
          [
           "P.S. 527 - East Side School for Social Action"
          ],
          [
           "Ballet Tech, NYC Public School for Dance"
          ],
          [
           "Spruce Street School"
          ],
          [
           "The 47 American Sign Language & English Lower Scho"
          ]
         ],
         "hovertemplate": "Cluster=4<br>mean_score_math=%{x}<br>mean_score_ela=%{y}<br>school_name=%{customdata[0]}<extra></extra>",
         "legendgroup": "4",
         "marker": {
          "color": "#FFA15A",
          "opacity": 0.5,
          "symbol": "circle"
         },
         "mode": "markers",
         "name": "4",
         "orientation": "v",
         "showlegend": true,
         "type": "scatter",
         "x": [
          639.7142944,
          592,
          594.25,
          615.168396,
          611.0402832,
          610.3099976,
          615.168396,
          615.168396,
          591.3076782,
          610.2857056,
          628.7477417,
          null,
          620.8225708,
          619.041687,
          612.4731445,
          614.3009033,
          606.4562988,
          606.1599731,
          609.5814209,
          609.8806152,
          591.0908813,
          611.8823242,
          612,
          610.5285645,
          609.4130249,
          610.46875,
          614.3947144,
          632.4716797,
          617.75177,
          600.6875,
          596.9642944,
          596.1538696,
          587.888916,
          615.168396,
          611.416687,
          607.4838867,
          615.6860352,
          619.4180298,
          606.2285767,
          603.7857056,
          600.3947144,
          null,
          614.7126465,
          616.458313,
          614.0800171,
          613,
          594,
          619.5999756,
          604,
          608.9375,
          611.1724243,
          615.6315918,
          615.479187,
          613.4615479,
          604.0374756,
          632.1810303,
          622.1264648,
          613.8487549,
          618.0449219,
          628.888916,
          628.309082,
          622.75,
          617.2424316,
          618.7073364,
          null
         ],
         "xaxis": "x",
         "y": [
          636.4000244,
          598.7241211,
          600.4857178,
          624.4042358,
          613.7822876,
          610.8515015,
          624.4042358,
          624.4042358,
          604.2380981,
          613.8243408,
          631.9729614,
          null,
          623.1538696,
          620.979187,
          617.4255371,
          624.0088501,
          614.4158325,
          613.0740967,
          614.4666748,
          615.4855347,
          590.9122925,
          617.2999878,
          609.6292114,
          615.0935059,
          618.7692261,
          616.90625,
          617.4285889,
          632.3018799,
          619.2324219,
          603.78125,
          608.8965454,
          601.8485107,
          603.888916,
          624.4042358,
          618.1818237,
          612.888916,
          620.7229004,
          628.1721191,
          611.0447998,
          610.7142944,
          604.305542,
          608.333313,
          615.3023071,
          628.416687,
          625.1199951,
          612,
          596,
          622.3222046,
          604,
          613.020813,
          611.2272949,
          619.5270386,
          618.168396,
          611.1153564,
          612.675354,
          625.7391357,
          624.6333618,
          611.5750122,
          622.0344849,
          632.3015747,
          628.3571167,
          625.104187,
          615,
          623.4634399,
          null
         ],
         "yaxis": "y"
        },
        {
         "customdata": [
          [
           "P.S. 016 Wakefield"
          ],
          [
           "P.S. 035 Nathaniel Woodhull"
          ],
          [
           "P. S. 62 - Chester Park School"
          ],
          [
           "P.S. 121 Queens"
          ],
          [
           "P.S. 65 - The Raymond York Elementary School"
          ],
          [
           "P.S. 096"
          ],
          [
           "The Bellaire School"
          ],
          [
           "P.S. 176 Cambria Heights"
          ],
          [
           "P.S. 123"
          ],
          [
           "P.S. 055 Maure"
          ],
          [
           "P.S./I.S. 268"
          ],
          [
           "P.S. 397 Foster-Laurie"
          ],
          [
           "P.S. 161 Arthur Ashe School"
          ],
          [
           "P.S. 155"
          ],
          [
           "P.S. 223 Lyndon B. Johnson"
          ],
          [
           "P.S. 050 Talfourd Lawn Elementary School"
          ],
          [
           "P.S. 100 Glen Morris"
          ],
          [
           "P.S. 160 Walter Francis Bishop"
          ]
         ],
         "hovertemplate": "Cluster=5<br>mean_score_math=%{x}<br>mean_score_ela=%{y}<br>school_name=%{customdata[0]}<extra></extra>",
         "legendgroup": "5",
         "marker": {
          "color": "#19d3f3",
          "opacity": 0.5,
          "symbol": "circle"
         },
         "mode": "markers",
         "name": "5",
         "orientation": "v",
         "showlegend": true,
         "type": "scatter",
         "x": [
          595.9815063,
          595.7999878,
          603.6541138,
          608.96875,
          598.3283691,
          607.8679199,
          595.567749,
          607.7567749,
          595.7199707,
          605.6707153,
          596.1470337,
          599.7368164,
          611.6470337,
          608.883728,
          594.8988647,
          604.043457,
          609.1879272,
          591.960022
         ],
         "xaxis": "x",
         "y": [
          599.2963257,
          599.1139526,
          603.7077026,
          611.0432129,
          601.2424316,
          609.6037598,
          600.9539185,
          608.0360107,
          597.6732788,
          603.6282349,
          598.3235474,
          604.6500244,
          608.6896362,
          603.9185791,
          592.8314819,
          605.8283691,
          601.5540771,
          596.4901733
         ],
         "yaxis": "y"
        }
       ],
       "layout": {
        "height": 600,
        "legend": {
         "title": {
          "text": "Cluster"
         },
         "tracegroupgap": 0
        },
        "template": {
         "data": {
          "bar": [
           {
            "error_x": {
             "color": "#2a3f5f"
            },
            "error_y": {
             "color": "#2a3f5f"
            },
            "marker": {
             "line": {
              "color": "#E5ECF6",
              "width": 0.5
             },
             "pattern": {
              "fillmode": "overlay",
              "size": 10,
              "solidity": 0.2
             }
            },
            "type": "bar"
           }
          ],
          "barpolar": [
           {
            "marker": {
             "line": {
              "color": "#E5ECF6",
              "width": 0.5
             },
             "pattern": {
              "fillmode": "overlay",
              "size": 10,
              "solidity": 0.2
             }
            },
            "type": "barpolar"
           }
          ],
          "carpet": [
           {
            "aaxis": {
             "endlinecolor": "#2a3f5f",
             "gridcolor": "white",
             "linecolor": "white",
             "minorgridcolor": "white",
             "startlinecolor": "#2a3f5f"
            },
            "baxis": {
             "endlinecolor": "#2a3f5f",
             "gridcolor": "white",
             "linecolor": "white",
             "minorgridcolor": "white",
             "startlinecolor": "#2a3f5f"
            },
            "type": "carpet"
           }
          ],
          "choropleth": [
           {
            "colorbar": {
             "outlinewidth": 0,
             "ticks": ""
            },
            "type": "choropleth"
           }
          ],
          "contour": [
           {
            "colorbar": {
             "outlinewidth": 0,
             "ticks": ""
            },
            "colorscale": [
             [
              0,
              "#0d0887"
             ],
             [
              0.1111111111111111,
              "#46039f"
             ],
             [
              0.2222222222222222,
              "#7201a8"
             ],
             [
              0.3333333333333333,
              "#9c179e"
             ],
             [
              0.4444444444444444,
              "#bd3786"
             ],
             [
              0.5555555555555556,
              "#d8576b"
             ],
             [
              0.6666666666666666,
              "#ed7953"
             ],
             [
              0.7777777777777778,
              "#fb9f3a"
             ],
             [
              0.8888888888888888,
              "#fdca26"
             ],
             [
              1,
              "#f0f921"
             ]
            ],
            "type": "contour"
           }
          ],
          "contourcarpet": [
           {
            "colorbar": {
             "outlinewidth": 0,
             "ticks": ""
            },
            "type": "contourcarpet"
           }
          ],
          "heatmap": [
           {
            "colorbar": {
             "outlinewidth": 0,
             "ticks": ""
            },
            "colorscale": [
             [
              0,
              "#0d0887"
             ],
             [
              0.1111111111111111,
              "#46039f"
             ],
             [
              0.2222222222222222,
              "#7201a8"
             ],
             [
              0.3333333333333333,
              "#9c179e"
             ],
             [
              0.4444444444444444,
              "#bd3786"
             ],
             [
              0.5555555555555556,
              "#d8576b"
             ],
             [
              0.6666666666666666,
              "#ed7953"
             ],
             [
              0.7777777777777778,
              "#fb9f3a"
             ],
             [
              0.8888888888888888,
              "#fdca26"
             ],
             [
              1,
              "#f0f921"
             ]
            ],
            "type": "heatmap"
           }
          ],
          "heatmapgl": [
           {
            "colorbar": {
             "outlinewidth": 0,
             "ticks": ""
            },
            "colorscale": [
             [
              0,
              "#0d0887"
             ],
             [
              0.1111111111111111,
              "#46039f"
             ],
             [
              0.2222222222222222,
              "#7201a8"
             ],
             [
              0.3333333333333333,
              "#9c179e"
             ],
             [
              0.4444444444444444,
              "#bd3786"
             ],
             [
              0.5555555555555556,
              "#d8576b"
             ],
             [
              0.6666666666666666,
              "#ed7953"
             ],
             [
              0.7777777777777778,
              "#fb9f3a"
             ],
             [
              0.8888888888888888,
              "#fdca26"
             ],
             [
              1,
              "#f0f921"
             ]
            ],
            "type": "heatmapgl"
           }
          ],
          "histogram": [
           {
            "marker": {
             "pattern": {
              "fillmode": "overlay",
              "size": 10,
              "solidity": 0.2
             }
            },
            "type": "histogram"
           }
          ],
          "histogram2d": [
           {
            "colorbar": {
             "outlinewidth": 0,
             "ticks": ""
            },
            "colorscale": [
             [
              0,
              "#0d0887"
             ],
             [
              0.1111111111111111,
              "#46039f"
             ],
             [
              0.2222222222222222,
              "#7201a8"
             ],
             [
              0.3333333333333333,
              "#9c179e"
             ],
             [
              0.4444444444444444,
              "#bd3786"
             ],
             [
              0.5555555555555556,
              "#d8576b"
             ],
             [
              0.6666666666666666,
              "#ed7953"
             ],
             [
              0.7777777777777778,
              "#fb9f3a"
             ],
             [
              0.8888888888888888,
              "#fdca26"
             ],
             [
              1,
              "#f0f921"
             ]
            ],
            "type": "histogram2d"
           }
          ],
          "histogram2dcontour": [
           {
            "colorbar": {
             "outlinewidth": 0,
             "ticks": ""
            },
            "colorscale": [
             [
              0,
              "#0d0887"
             ],
             [
              0.1111111111111111,
              "#46039f"
             ],
             [
              0.2222222222222222,
              "#7201a8"
             ],
             [
              0.3333333333333333,
              "#9c179e"
             ],
             [
              0.4444444444444444,
              "#bd3786"
             ],
             [
              0.5555555555555556,
              "#d8576b"
             ],
             [
              0.6666666666666666,
              "#ed7953"
             ],
             [
              0.7777777777777778,
              "#fb9f3a"
             ],
             [
              0.8888888888888888,
              "#fdca26"
             ],
             [
              1,
              "#f0f921"
             ]
            ],
            "type": "histogram2dcontour"
           }
          ],
          "mesh3d": [
           {
            "colorbar": {
             "outlinewidth": 0,
             "ticks": ""
            },
            "type": "mesh3d"
           }
          ],
          "parcoords": [
           {
            "line": {
             "colorbar": {
              "outlinewidth": 0,
              "ticks": ""
             }
            },
            "type": "parcoords"
           }
          ],
          "pie": [
           {
            "automargin": true,
            "type": "pie"
           }
          ],
          "scatter": [
           {
            "fillpattern": {
             "fillmode": "overlay",
             "size": 10,
             "solidity": 0.2
            },
            "type": "scatter"
           }
          ],
          "scatter3d": [
           {
            "line": {
             "colorbar": {
              "outlinewidth": 0,
              "ticks": ""
             }
            },
            "marker": {
             "colorbar": {
              "outlinewidth": 0,
              "ticks": ""
             }
            },
            "type": "scatter3d"
           }
          ],
          "scattercarpet": [
           {
            "marker": {
             "colorbar": {
              "outlinewidth": 0,
              "ticks": ""
             }
            },
            "type": "scattercarpet"
           }
          ],
          "scattergeo": [
           {
            "marker": {
             "colorbar": {
              "outlinewidth": 0,
              "ticks": ""
             }
            },
            "type": "scattergeo"
           }
          ],
          "scattergl": [
           {
            "marker": {
             "colorbar": {
              "outlinewidth": 0,
              "ticks": ""
             }
            },
            "type": "scattergl"
           }
          ],
          "scattermapbox": [
           {
            "marker": {
             "colorbar": {
              "outlinewidth": 0,
              "ticks": ""
             }
            },
            "type": "scattermapbox"
           }
          ],
          "scatterpolar": [
           {
            "marker": {
             "colorbar": {
              "outlinewidth": 0,
              "ticks": ""
             }
            },
            "type": "scatterpolar"
           }
          ],
          "scatterpolargl": [
           {
            "marker": {
             "colorbar": {
              "outlinewidth": 0,
              "ticks": ""
             }
            },
            "type": "scatterpolargl"
           }
          ],
          "scatterternary": [
           {
            "marker": {
             "colorbar": {
              "outlinewidth": 0,
              "ticks": ""
             }
            },
            "type": "scatterternary"
           }
          ],
          "surface": [
           {
            "colorbar": {
             "outlinewidth": 0,
             "ticks": ""
            },
            "colorscale": [
             [
              0,
              "#0d0887"
             ],
             [
              0.1111111111111111,
              "#46039f"
             ],
             [
              0.2222222222222222,
              "#7201a8"
             ],
             [
              0.3333333333333333,
              "#9c179e"
             ],
             [
              0.4444444444444444,
              "#bd3786"
             ],
             [
              0.5555555555555556,
              "#d8576b"
             ],
             [
              0.6666666666666666,
              "#ed7953"
             ],
             [
              0.7777777777777778,
              "#fb9f3a"
             ],
             [
              0.8888888888888888,
              "#fdca26"
             ],
             [
              1,
              "#f0f921"
             ]
            ],
            "type": "surface"
           }
          ],
          "table": [
           {
            "cells": {
             "fill": {
              "color": "#EBF0F8"
             },
             "line": {
              "color": "white"
             }
            },
            "header": {
             "fill": {
              "color": "#C8D4E3"
             },
             "line": {
              "color": "white"
             }
            },
            "type": "table"
           }
          ]
         },
         "layout": {
          "annotationdefaults": {
           "arrowcolor": "#2a3f5f",
           "arrowhead": 0,
           "arrowwidth": 1
          },
          "autotypenumbers": "strict",
          "coloraxis": {
           "colorbar": {
            "outlinewidth": 0,
            "ticks": ""
           }
          },
          "colorscale": {
           "diverging": [
            [
             0,
             "#8e0152"
            ],
            [
             0.1,
             "#c51b7d"
            ],
            [
             0.2,
             "#de77ae"
            ],
            [
             0.3,
             "#f1b6da"
            ],
            [
             0.4,
             "#fde0ef"
            ],
            [
             0.5,
             "#f7f7f7"
            ],
            [
             0.6,
             "#e6f5d0"
            ],
            [
             0.7,
             "#b8e186"
            ],
            [
             0.8,
             "#7fbc41"
            ],
            [
             0.9,
             "#4d9221"
            ],
            [
             1,
             "#276419"
            ]
           ],
           "sequential": [
            [
             0,
             "#0d0887"
            ],
            [
             0.1111111111111111,
             "#46039f"
            ],
            [
             0.2222222222222222,
             "#7201a8"
            ],
            [
             0.3333333333333333,
             "#9c179e"
            ],
            [
             0.4444444444444444,
             "#bd3786"
            ],
            [
             0.5555555555555556,
             "#d8576b"
            ],
            [
             0.6666666666666666,
             "#ed7953"
            ],
            [
             0.7777777777777778,
             "#fb9f3a"
            ],
            [
             0.8888888888888888,
             "#fdca26"
            ],
            [
             1,
             "#f0f921"
            ]
           ],
           "sequentialminus": [
            [
             0,
             "#0d0887"
            ],
            [
             0.1111111111111111,
             "#46039f"
            ],
            [
             0.2222222222222222,
             "#7201a8"
            ],
            [
             0.3333333333333333,
             "#9c179e"
            ],
            [
             0.4444444444444444,
             "#bd3786"
            ],
            [
             0.5555555555555556,
             "#d8576b"
            ],
            [
             0.6666666666666666,
             "#ed7953"
            ],
            [
             0.7777777777777778,
             "#fb9f3a"
            ],
            [
             0.8888888888888888,
             "#fdca26"
            ],
            [
             1,
             "#f0f921"
            ]
           ]
          },
          "colorway": [
           "#636efa",
           "#EF553B",
           "#00cc96",
           "#ab63fa",
           "#FFA15A",
           "#19d3f3",
           "#FF6692",
           "#B6E880",
           "#FF97FF",
           "#FECB52"
          ],
          "font": {
           "color": "#2a3f5f"
          },
          "geo": {
           "bgcolor": "white",
           "lakecolor": "white",
           "landcolor": "#E5ECF6",
           "showlakes": true,
           "showland": true,
           "subunitcolor": "white"
          },
          "hoverlabel": {
           "align": "left"
          },
          "hovermode": "closest",
          "mapbox": {
           "style": "light"
          },
          "paper_bgcolor": "white",
          "plot_bgcolor": "#E5ECF6",
          "polar": {
           "angularaxis": {
            "gridcolor": "white",
            "linecolor": "white",
            "ticks": ""
           },
           "bgcolor": "#E5ECF6",
           "radialaxis": {
            "gridcolor": "white",
            "linecolor": "white",
            "ticks": ""
           }
          },
          "scene": {
           "xaxis": {
            "backgroundcolor": "#E5ECF6",
            "gridcolor": "white",
            "gridwidth": 2,
            "linecolor": "white",
            "showbackground": true,
            "ticks": "",
            "zerolinecolor": "white"
           },
           "yaxis": {
            "backgroundcolor": "#E5ECF6",
            "gridcolor": "white",
            "gridwidth": 2,
            "linecolor": "white",
            "showbackground": true,
            "ticks": "",
            "zerolinecolor": "white"
           },
           "zaxis": {
            "backgroundcolor": "#E5ECF6",
            "gridcolor": "white",
            "gridwidth": 2,
            "linecolor": "white",
            "showbackground": true,
            "ticks": "",
            "zerolinecolor": "white"
           }
          },
          "shapedefaults": {
           "line": {
            "color": "#2a3f5f"
           }
          },
          "ternary": {
           "aaxis": {
            "gridcolor": "white",
            "linecolor": "white",
            "ticks": ""
           },
           "baxis": {
            "gridcolor": "white",
            "linecolor": "white",
            "ticks": ""
           },
           "bgcolor": "#E5ECF6",
           "caxis": {
            "gridcolor": "white",
            "linecolor": "white",
            "ticks": ""
           }
          },
          "title": {
           "x": 0.05
          },
          "xaxis": {
           "automargin": true,
           "gridcolor": "white",
           "linecolor": "white",
           "ticks": "",
           "title": {
            "standoff": 15
           },
           "zerolinecolor": "white",
           "zerolinewidth": 2
          },
          "yaxis": {
           "automargin": true,
           "gridcolor": "white",
           "linecolor": "white",
           "ticks": "",
           "title": {
            "standoff": 15
           },
           "zerolinecolor": "white",
           "zerolinewidth": 2
          }
         }
        },
        "title": {
         "text": "K-Means Clustering Visualization",
         "x": 0.5
        },
        "width": 800,
        "xaxis": {
         "anchor": "y",
         "domain": [
          0,
          1
         ],
         "title": {
          "text": "Mean Score Math"
         }
        },
        "yaxis": {
         "anchor": "x",
         "domain": [
          0,
          1
         ],
         "title": {
          "text": "Mean Score ELA"
         }
        }
       }
      }
     },
     "metadata": {},
     "output_type": "display_data"
    }
   ],
   "source": [
    "import plotly.express as px\n",
    "\n",
    "# Create a new DataFrame with the mean_score_ela, mean_score_math, and cluster labels\n",
    "plot_data = filtered_data[['school_name', 'mean_score_ela', 'mean_score_math']].copy()\n",
    "plot_data['Cluster'] = cluster_labels\n",
    "plot_data['Cluster'] = plot_data['Cluster'].astype(str)  # Convert cluster labels to strings for better display in the plot\n",
    "\n",
    "# Sort the plot_data DataFrame by the 'Cluster' column\n",
    "plot_data = plot_data.sort_values(by='Cluster')\n",
    "\n",
    "# Create the interactive scatterplot\n",
    "fig = px.scatter(plot_data, x='mean_score_math', y='mean_score_ela', color='Cluster', title='K-Means Clustering Visualization',\n",
    "                 hover_data=['school_name', 'mean_score_math', 'mean_score_ela'], width=800, height = 600, size_max=8, opacity=0.5)\n",
    "\n",
    "# Set x-axis and y-axis titles\n",
    "fig.update_xaxes(title='Mean Score Math')\n",
    "fig.update_yaxes(title='Mean Score ELA')\n",
    "\n",
    "# Center the title\n",
    "fig.update_layout(\n",
    "    title={\n",
    "        'text': 'K-Means Clustering Visualization',\n",
    "        'x': 0.5\n",
    "    }\n",
    ")\n",
    "\n",
    "# Show the interactive scatterplot\n",
    "fig.show()\n"
   ]
  },
  {
   "attachments": {},
   "cell_type": "markdown",
   "metadata": {},
   "source": [
    "The `plotly.express` scatter plot has some additional features that are not present in the `matplotlib.pyplot` scatter plot. For example, the `plotly.express` plot includes school names and cluster labels in the hover data, which can be useful for identifying individual schools and understanding the patterns in the data.  Additionally, you are able to select and deselect clusters to improve visability.\n",
    "\n",
    "Overall, clustering and visualization are powerful tools for analyzing data and identifying patterns and structure. By using K-Means clustering and scatter plots, we were able to identify 6 distinct clusters of schools based similarities in their student populations, and to visualize the relationship between mean Math and ELA scores for each cluster. These insights can be used to inform policy and practice in the education sector, and to support efforts to improve student outcomes."
   ]
  },
  {
   "attachments": {},
   "cell_type": "markdown",
   "metadata": {},
   "source": [
    "### <u>Data Analysis</u>\n",
    "\n",
    "#### <u>Cluster Summary Statistics</u>\n",
    "\n",
    "After performing K-Means clustering on the data, we can calculate summary statistics for each cluster to better understand the characteristics of each group. In this tutorial, we will use `tabulate` to create a nicely formatted table of cluster summary statistics.\n",
    "\n",
    "\n"
   ]
  },
  {
   "cell_type": "code",
   "execution_count": 19,
   "metadata": {},
   "outputs": [],
   "source": [
    "import tabulate"
   ]
  },
  {
   "attachments": {},
   "cell_type": "markdown",
   "metadata": {},
   "source": [
    "First, we will create a new DataFrame with only the numeric columns (i.e., the racial percentages and cluster labels) from our filtered data:"
   ]
  },
  {
   "cell_type": "code",
   "execution_count": 20,
   "metadata": {},
   "outputs": [],
   "source": [
    "numeric_data = filtered_data[['asian_pct', 'black_pct', 'hispanic_pct', 'multi_racial_pct', 'native_american_pct', 'white_pct', 'cluster', 'mean_score_ela', 'mean_score_math']]"
   ]
  },
  {
   "attachments": {},
   "cell_type": "markdown",
   "metadata": {},
   "source": [
    "Next, we group the numeric_data DataFrame by cluster labels using the `groupby` method, and calculate the mean for each feature using the `mean` method:"
   ]
  },
  {
   "cell_type": "code",
   "execution_count": 21,
   "metadata": {},
   "outputs": [],
   "source": [
    "cluster_summary = numeric_data.groupby('cluster').agg({\n",
    "    'asian_pct': 'mean',\n",
    "    'black_pct': 'mean',\n",
    "    'hispanic_pct': 'mean',\n",
    "    'multi_racial_pct': 'mean',\n",
    "    'native_american_pct': 'mean',\n",
    "    'white_pct': 'mean',\n",
    "    'mean_score_ela': 'mean',\n",
    "    'mean_score_math': 'mean'\n",
    "})"
   ]
  },
  {
   "cell_type": "code",
   "execution_count": 22,
   "metadata": {},
   "outputs": [
    {
     "data": {
      "text/html": [
       "<div>\n",
       "<style scoped>\n",
       "    .dataframe tbody tr th:only-of-type {\n",
       "        vertical-align: middle;\n",
       "    }\n",
       "\n",
       "    .dataframe tbody tr th {\n",
       "        vertical-align: top;\n",
       "    }\n",
       "\n",
       "    .dataframe thead th {\n",
       "        text-align: right;\n",
       "    }\n",
       "</style>\n",
       "<table border=\"1\" class=\"dataframe\">\n",
       "  <thead>\n",
       "    <tr style=\"text-align: right;\">\n",
       "      <th></th>\n",
       "      <th>cluster</th>\n",
       "      <th>asian_pct</th>\n",
       "      <th>black_pct</th>\n",
       "      <th>hispanic_pct</th>\n",
       "      <th>multi_racial_pct</th>\n",
       "      <th>native_american_pct</th>\n",
       "      <th>white_pct</th>\n",
       "      <th>mean_score_ela</th>\n",
       "      <th>mean_score_math</th>\n",
       "    </tr>\n",
       "  </thead>\n",
       "  <tbody>\n",
       "    <tr>\n",
       "      <th>0</th>\n",
       "      <td>0.0</td>\n",
       "      <td>0.051938</td>\n",
       "      <td>0.186527</td>\n",
       "      <td>0.707450</td>\n",
       "      <td>0.005490</td>\n",
       "      <td>0.008173</td>\n",
       "      <td>0.039935</td>\n",
       "      <td>596.669298</td>\n",
       "      <td>595.251397</td>\n",
       "    </tr>\n",
       "    <tr>\n",
       "      <th>1</th>\n",
       "      <td>1.0</td>\n",
       "      <td>0.030381</td>\n",
       "      <td>0.680382</td>\n",
       "      <td>0.236706</td>\n",
       "      <td>0.008686</td>\n",
       "      <td>0.011256</td>\n",
       "      <td>0.032062</td>\n",
       "      <td>599.267711</td>\n",
       "      <td>598.022696</td>\n",
       "    </tr>\n",
       "    <tr>\n",
       "      <th>2</th>\n",
       "      <td>2.0</td>\n",
       "      <td>0.146550</td>\n",
       "      <td>0.072698</td>\n",
       "      <td>0.276034</td>\n",
       "      <td>0.019000</td>\n",
       "      <td>0.005174</td>\n",
       "      <td>0.479953</td>\n",
       "      <td>608.688885</td>\n",
       "      <td>607.104221</td>\n",
       "    </tr>\n",
       "    <tr>\n",
       "      <th>3</th>\n",
       "      <td>3.0</td>\n",
       "      <td>0.573324</td>\n",
       "      <td>0.048074</td>\n",
       "      <td>0.223778</td>\n",
       "      <td>0.011250</td>\n",
       "      <td>0.009046</td>\n",
       "      <td>0.134481</td>\n",
       "      <td>608.395874</td>\n",
       "      <td>609.675596</td>\n",
       "    </tr>\n",
       "    <tr>\n",
       "      <th>4</th>\n",
       "      <td>4.0</td>\n",
       "      <td>0.125323</td>\n",
       "      <td>0.124585</td>\n",
       "      <td>0.199062</td>\n",
       "      <td>0.079277</td>\n",
       "      <td>0.003692</td>\n",
       "      <td>0.466323</td>\n",
       "      <td>616.164470</td>\n",
       "      <td>611.932668</td>\n",
       "    </tr>\n",
       "    <tr>\n",
       "      <th>5</th>\n",
       "      <td>5.0</td>\n",
       "      <td>0.303056</td>\n",
       "      <td>0.306944</td>\n",
       "      <td>0.222444</td>\n",
       "      <td>0.010000</td>\n",
       "      <td>0.130222</td>\n",
       "      <td>0.027056</td>\n",
       "      <td>602.588040</td>\n",
       "      <td>601.767819</td>\n",
       "    </tr>\n",
       "  </tbody>\n",
       "</table>\n",
       "</div>"
      ],
      "text/plain": [
       "   cluster  asian_pct  black_pct  hispanic_pct  multi_racial_pct   \n",
       "0      0.0   0.051938   0.186527      0.707450          0.005490  \\\n",
       "1      1.0   0.030381   0.680382      0.236706          0.008686   \n",
       "2      2.0   0.146550   0.072698      0.276034          0.019000   \n",
       "3      3.0   0.573324   0.048074      0.223778          0.011250   \n",
       "4      4.0   0.125323   0.124585      0.199062          0.079277   \n",
       "5      5.0   0.303056   0.306944      0.222444          0.010000   \n",
       "\n",
       "   native_american_pct  white_pct  mean_score_ela  mean_score_math  \n",
       "0             0.008173   0.039935      596.669298       595.251397  \n",
       "1             0.011256   0.032062      599.267711       598.022696  \n",
       "2             0.005174   0.479953      608.688885       607.104221  \n",
       "3             0.009046   0.134481      608.395874       609.675596  \n",
       "4             0.003692   0.466323      616.164470       611.932668  \n",
       "5             0.130222   0.027056      602.588040       601.767819  "
      ]
     },
     "execution_count": 22,
     "metadata": {},
     "output_type": "execute_result"
    }
   ],
   "source": [
    "cluster_summary = cluster_summary.reset_index()\n",
    "cluster_summary"
   ]
  },
  {
   "attachments": {},
   "cell_type": "markdown",
   "metadata": {},
   "source": [
    "Finally, we will use `tabulate` to create a formatted table from the cluster_summary DataFrame.  The `tabulate.tabulate` function takes several arguments to customize the table formatting, including the table format ('fancy_grid' in this case), whether to show row indices (`True` in this case), and how to align numeric and string data (`numalign='center'` and `stralign='center'` in this case).\n",
    "\n",
    "We also use the `str.format` method to format the numeric data in the table to 6 decimal places:"
   ]
  },
  {
   "cell_type": "code",
   "execution_count": 23,
   "metadata": {},
   "outputs": [],
   "source": [
    "# Create a nicely formatted table from the cluster_summary DataFrame\n",
    "table = tabulate.tabulate(cluster_summary, headers=cluster_summary.columns, tablefmt='fancy_grid', showindex=True, numalign='center', stralign='center')\n",
    "table = table.format({col: '{.6f}' for col in cluster_summary.columns if col != 'Cluster'})\n"
   ]
  },
  {
   "attachments": {},
   "cell_type": "markdown",
   "metadata": {},
   "source": [
    "Finally, we print the table using the `print` function:"
   ]
  },
  {
   "cell_type": "code",
   "execution_count": 24,
   "metadata": {},
   "outputs": [
    {
     "name": "stdout",
     "output_type": "stream",
     "text": [
      "Cluster Summary Statistics\n",
      "\n",
      "╒════╤═══════════╤═════════════╤═════════════╤════════════════╤════════════════════╤═══════════════════════╤═════════════╤══════════════════╤═══════════════════╕\n",
      "│    │  cluster  │  asian_pct  │  black_pct  │  hispanic_pct  │  multi_racial_pct  │  native_american_pct  │  white_pct  │  mean_score_ela  │  mean_score_math  │\n",
      "╞════╪═══════════╪═════════════╪═════════════╪════════════════╪════════════════════╪═══════════════════════╪═════════════╪══════════════════╪═══════════════════╡\n",
      "│ 0  │     0     │  0.0519385  │  0.186527   │    0.70745     │     0.00549029     │       0.0081732       │  0.039935   │     596.669      │      595.251      │\n",
      "├────┼───────────┼─────────────┼─────────────┼────────────────┼────────────────────┼───────────────────────┼─────────────┼──────────────────┼───────────────────┤\n",
      "│ 1  │     1     │  0.0303809  │  0.680382   │    0.236706    │     0.00868586     │       0.0112561       │  0.0320623  │     599.268      │      598.023      │\n",
      "├────┼───────────┼─────────────┼─────────────┼────────────────┼────────────────────┼───────────────────────┼─────────────┼──────────────────┼───────────────────┤\n",
      "│ 2  │     2     │   0.14655   │  0.072698   │    0.276034    │       0.019        │       0.0051745       │  0.479953   │     608.689      │      607.104      │\n",
      "├────┼───────────┼─────────────┼─────────────┼────────────────┼────────────────────┼───────────────────────┼─────────────┼──────────────────┼───────────────────┤\n",
      "│ 3  │     3     │  0.573324   │  0.0480741  │    0.223778    │      0.01125       │       0.0090463       │  0.134481   │     608.396      │      609.676      │\n",
      "├────┼───────────┼─────────────┼─────────────┼────────────────┼────────────────────┼───────────────────────┼─────────────┼──────────────────┼───────────────────┤\n",
      "│ 4  │     4     │  0.125323   │  0.124585   │    0.199062    │     0.0792769      │      0.00369231       │  0.466323   │     616.164      │      611.933      │\n",
      "├────┼───────────┼─────────────┼─────────────┼────────────────┼────────────────────┼───────────────────────┼─────────────┼──────────────────┼───────────────────┤\n",
      "│ 5  │     5     │  0.303056   │  0.306944   │    0.222444    │        0.01        │       0.130222        │  0.0270556  │     602.588      │      601.768      │\n",
      "╘════╧═══════════╧═════════════╧═════════════╧════════════════╧════════════════════╧═══════════════════════╧═════════════╧══════════════════╧═══════════════════╛\n"
     ]
    }
   ],
   "source": [
    "# Print the table\n",
    "print('Cluster Summary Statistics\\n')\n",
    "print(table)\n"
   ]
  },
  {
   "attachments": {},
   "cell_type": "markdown",
   "metadata": {},
   "source": [
    "The cluster summary statistics table provides insights into the demographic characteristics and academic performance of each cluster. Each row represents a cluster, and the columns show the mean percentage of students in each race/ethnicity category, as well as the mean ELA and Math scores for each cluster.  \n",
    "\n",
    "For example, Cluster 0 has the highest percentage of Hispanic students (71%) and the lowest percentage of multiracial students (0.5%). This cluster obtained the lowest mean ELA score (597.0), and the lowest mean Math score (594.8).\n",
    "\n",
    "Cluster 5 has the highest percentage of multiracial students (7.9%) and the lowest percentage of Native American students (0.3%), while having a relativerly high percentage of white students (47.6%). Cluster 5 obtained the greatest mean ELA score and the greatest mean Math score at 616.2 and 614.5, respectively.\n",
    "\n",
    "These cluster summary statistics can be used to inform further analysis and decision-making, such as identifying areas for improvement and targeting resources to specific student populations.\n",
    "\n",
    "\n",
    "\n"
   ]
  }
 ],
 "metadata": {
  "kernelspec": {
   "display_name": ".venv",
   "language": "python",
   "name": "python3"
  },
  "language_info": {
   "codemirror_mode": {
    "name": "ipython",
    "version": 3
   },
   "file_extension": ".py",
   "mimetype": "text/x-python",
   "name": "python",
   "nbconvert_exporter": "python",
   "pygments_lexer": "ipython3",
   "version": "3.9.6"
  },
  "orig_nbformat": 4
 },
 "nbformat": 4,
 "nbformat_minor": 2
}
